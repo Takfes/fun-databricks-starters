{
 "cells": [
  {
   "cell_type": "code",
   "execution_count": 0,
   "metadata": {
    "application/vnd.databricks.v1+cell": {
     "cellMetadata": {
      "byteLimit": 2048000,
      "rowLimit": 10000
     },
     "inputWidgets": {},
     "nuid": "82358d5c-c7f9-4ec2-b60f-859211c8a451",
     "showTitle": false,
     "title": ""
    }
   },
   "outputs": [],
   "source": [
    "import pandas as pd"
   ]
  },
  {
   "cell_type": "code",
   "execution_count": 0,
   "metadata": {
    "application/vnd.databricks.v1+cell": {
     "cellMetadata": {
      "byteLimit": 2048000,
      "rowLimit": 10000
     },
     "inputWidgets": {},
     "nuid": "adbf5010-ad8f-41cb-92a1-eacfe30b2e72",
     "showTitle": false,
     "title": ""
    }
   },
   "outputs": [],
   "source": [
    "dataset_url = 'https://gist.githubusercontent.com/GaneshSparkz/b5662effbdae8746f7f7d8ed70c42b2d/raw/faf8b1a0d58e251f48a647d3881e7a960c3f0925/50_Startups.csv'"
   ]
  },
  {
   "cell_type": "code",
   "execution_count": 0,
   "metadata": {
    "application/vnd.databricks.v1+cell": {
     "cellMetadata": {
      "byteLimit": 2048000,
      "rowLimit": 10000
     },
     "inputWidgets": {},
     "nuid": "204c2f7e-804d-479c-b59c-ba9f58c0dbce",
     "showTitle": false,
     "title": ""
    }
   },
   "outputs": [
    {
     "output_type": "execute_result",
     "data": {
      "text/plain": [
       "pandas.core.frame.DataFrame"
      ]
     },
     "execution_count": 3,
     "metadata": {},
     "output_type": "execute_result"
    }
   ],
   "source": [
    "pandas_df = pd.read_csv(dataset_url)\n",
    "type(pandas_df)"
   ]
  },
  {
   "cell_type": "code",
   "execution_count": 0,
   "metadata": {
    "application/vnd.databricks.v1+cell": {
     "cellMetadata": {
      "byteLimit": 2048000,
      "rowLimit": 10000
     },
     "inputWidgets": {},
     "nuid": "9334ce5b-6464-4961-b742-934adffe7fe3",
     "showTitle": false,
     "title": ""
    }
   },
   "outputs": [
    {
     "output_type": "execute_result",
     "data": {
      "text/plain": [
       "Index(['rnd_spend', 'administration', 'marketing_spend', 'state', 'profit'], dtype='object')"
      ]
     },
     "execution_count": 4,
     "metadata": {},
     "output_type": "execute_result"
    }
   ],
   "source": [
    "pandas_df.columns = [x.replace(' ','_').replace('&','n').lower() for x in pandas_df.columns]\n",
    "pandas_df.columns"
   ]
  },
  {
   "cell_type": "markdown",
   "metadata": {
    "application/vnd.databricks.v1+cell": {
     "cellMetadata": {},
     "inputWidgets": {},
     "nuid": "1be87938-8143-4c8a-bbc9-b95fac434b76",
     "showTitle": false,
     "title": ""
    }
   },
   "source": [
    "### Import spark dependencies"
   ]
  },
  {
   "cell_type": "code",
   "execution_count": 0,
   "metadata": {
    "application/vnd.databricks.v1+cell": {
     "cellMetadata": {
      "byteLimit": 2048000,
      "rowLimit": 10000
     },
     "inputWidgets": {},
     "nuid": "2cf59c60-34b6-4ea9-9e7b-cf07c962ec84",
     "showTitle": false,
     "title": ""
    }
   },
   "outputs": [
    {
     "output_type": "execute_result",
     "data": {
      "text/plain": [
       "'3.5.0'"
      ]
     },
     "execution_count": 5,
     "metadata": {},
     "output_type": "execute_result"
    }
   ],
   "source": [
    "spark.version"
   ]
  },
  {
   "cell_type": "code",
   "execution_count": 0,
   "metadata": {
    "application/vnd.databricks.v1+cell": {
     "cellMetadata": {
      "byteLimit": 2048000,
      "rowLimit": 10000
     },
     "inputWidgets": {},
     "nuid": "f4fbdd7b-e117-4ffa-8a6d-ee5b9d4c5eb3",
     "showTitle": false,
     "title": ""
    }
   },
   "outputs": [],
   "source": [
    "# spark comes preloaded however these are some typical imports\n",
    "from pyspark.sql import SparkSession\n",
    "from pyspark.sql import functions as F\n",
    "from pyspark.sql import types as T"
   ]
  },
  {
   "cell_type": "code",
   "execution_count": 0,
   "metadata": {
    "application/vnd.databricks.v1+cell": {
     "cellMetadata": {
      "byteLimit": 2048000,
      "rowLimit": 10000
     },
     "inputWidgets": {},
     "nuid": "4d59c1e3-7552-4647-b46f-aee94c6498b9",
     "showTitle": false,
     "title": ""
    }
   },
   "outputs": [],
   "source": [
    "spark = SparkSession.builder.appName(\"Spark101\").getOrCreate()"
   ]
  },
  {
   "cell_type": "markdown",
   "metadata": {
    "application/vnd.databricks.v1+cell": {
     "cellMetadata": {},
     "inputWidgets": {},
     "nuid": "4fc570e0-165b-4055-b56d-2c99e26eae72",
     "showTitle": false,
     "title": ""
    }
   },
   "source": [
    "### Pandas to spark and back"
   ]
  },
  {
   "cell_type": "code",
   "execution_count": 0,
   "metadata": {
    "application/vnd.databricks.v1+cell": {
     "cellMetadata": {
      "byteLimit": 2048000,
      "rowLimit": 10000
     },
     "inputWidgets": {},
     "nuid": "d5318185-804d-4b2d-8292-e40801de9812",
     "showTitle": false,
     "title": ""
    }
   },
   "outputs": [
    {
     "output_type": "execute_result",
     "data": {
      "text/plain": [
       "pyspark.sql.dataframe.DataFrame"
      ]
     },
     "execution_count": 8,
     "metadata": {},
     "output_type": "execute_result"
    }
   ],
   "source": [
    "spark_df = spark.createDataFrame(pandas_df)\n",
    "type(spark_df)"
   ]
  },
  {
   "cell_type": "code",
   "execution_count": 0,
   "metadata": {
    "application/vnd.databricks.v1+cell": {
     "cellMetadata": {
      "byteLimit": 2048000,
      "rowLimit": 10000
     },
     "inputWidgets": {},
     "nuid": "28ee881c-555f-4800-b8d3-bb335637d3b8",
     "showTitle": false,
     "title": ""
    }
   },
   "outputs": [
    {
     "output_type": "execute_result",
     "data": {
      "text/plain": [
       "pandas.core.frame.DataFrame"
      ]
     },
     "execution_count": 9,
     "metadata": {},
     "output_type": "execute_result"
    }
   ],
   "source": [
    "pandas_df_back = spark_df.toPandas()\n",
    "type(pandas_df_back)"
   ]
  },
  {
   "cell_type": "markdown",
   "metadata": {
    "application/vnd.databricks.v1+cell": {
     "cellMetadata": {},
     "inputWidgets": {},
     "nuid": "7f191bfc-93f6-45f2-aa42-ce986c974cbe",
     "showTitle": false,
     "title": ""
    }
   },
   "source": [
    "### Create sql view from spark"
   ]
  },
  {
   "cell_type": "code",
   "execution_count": 0,
   "metadata": {
    "application/vnd.databricks.v1+cell": {
     "cellMetadata": {
      "byteLimit": 2048000,
      "rowLimit": 10000
     },
     "inputWidgets": {},
     "nuid": "99a99bdc-f838-4c25-b604-a3397f7026e2",
     "showTitle": false,
     "title": ""
    }
   },
   "outputs": [],
   "source": [
    "spark_df.createOrReplaceTempView(\"my_temp_table\")"
   ]
  },
  {
   "cell_type": "code",
   "execution_count": 0,
   "metadata": {
    "application/vnd.databricks.v1+cell": {
     "cellMetadata": {
      "byteLimit": 2048000,
      "implicitDf": true,
      "rowLimit": 10000
     },
     "inputWidgets": {},
     "nuid": "e1fa8773-8db1-4194-839f-b9a95ced9f1b",
     "showTitle": false,
     "title": ""
    }
   },
   "outputs": [
    {
     "output_type": "display_data",
     "data": {
      "text/html": [
       "<style scoped>\n",
       "  .table-result-container {\n",
       "    max-height: 300px;\n",
       "    overflow: auto;\n",
       "  }\n",
       "  table, th, td {\n",
       "    border: 1px solid black;\n",
       "    border-collapse: collapse;\n",
       "  }\n",
       "  th, td {\n",
       "    padding: 5px;\n",
       "  }\n",
       "  th {\n",
       "    text-align: left;\n",
       "  }\n",
       "</style><div class='table-result-container'><table class='table-result'><thead style='background-color: white'><tr><th>namespace</th><th>viewName</th><th>isTemporary</th><th>isMaterialized</th></tr></thead><tbody><tr><td></td><td>my_temp_table</td><td>true</td><td>false</td></tr></tbody></table></div>"
      ]
     },
     "metadata": {
      "application/vnd.databricks.v1+output": {
       "addedWidgets": {},
       "aggData": [],
       "aggError": "",
       "aggOverflow": false,
       "aggSchema": [],
       "aggSeriesLimitReached": false,
       "aggType": "",
       "arguments": {},
       "columnCustomDisplayInfos": {},
       "data": [
        [
         "",
         "my_temp_table",
         true,
         false
        ]
       ],
       "datasetInfos": [],
       "dbfsResultPath": null,
       "isJsonSchema": true,
       "metadata": {
        "dataframeName": "_sqldf",
        "executionCount": 11
       },
       "overflow": false,
       "plotOptions": {
        "customPlotOptions": {},
        "displayType": "table",
        "pivotAggregation": null,
        "pivotColumns": null,
        "xColumns": null,
        "yColumns": null
       },
       "removedWidgets": [],
       "schema": [
        {
         "metadata": "{}",
         "name": "namespace",
         "type": "\"string\""
        },
        {
         "metadata": "{}",
         "name": "viewName",
         "type": "\"string\""
        },
        {
         "metadata": "{}",
         "name": "isTemporary",
         "type": "\"boolean\""
        },
        {
         "metadata": "{}",
         "name": "isMaterialized",
         "type": "\"boolean\""
        }
       ],
       "type": "table"
      }
     },
     "output_type": "display_data"
    }
   ],
   "source": [
    "%sql\n",
    "SHOW VIEWS;"
   ]
  },
  {
   "cell_type": "code",
   "execution_count": 0,
   "metadata": {
    "application/vnd.databricks.v1+cell": {
     "cellMetadata": {
      "byteLimit": 2048000,
      "rowLimit": 10000
     },
     "inputWidgets": {},
     "nuid": "65933da8-21b6-4c65-b4be-089e63c16f2c",
     "showTitle": false,
     "title": ""
    }
   },
   "outputs": [
    {
     "output_type": "stream",
     "name": "stdout",
     "output_type": "stream",
     "text": [
      "['my_temp_table']\n"
     ]
    }
   ],
   "source": [
    "# List all temporary views using PySpark\n",
    "temp_views = spark.catalog.listTables()\n",
    "temp_view_names = [view.name for view in temp_views if view.tableType == 'TEMPORARY']\n",
    "print(temp_view_names)"
   ]
  },
  {
   "cell_type": "code",
   "execution_count": 0,
   "metadata": {
    "application/vnd.databricks.v1+cell": {
     "cellMetadata": {
      "byteLimit": 2048000,
      "rowLimit": 10000
     },
     "inputWidgets": {},
     "nuid": "339ec522-b0cb-40bd-9f2b-3f4b8d4f8398",
     "showTitle": false,
     "title": ""
    }
   },
   "outputs": [],
   "source": [
    "spark_qdf = spark.sql(\"SELECT * FROM my_temp_table\")"
   ]
  },
  {
   "cell_type": "markdown",
   "metadata": {
    "application/vnd.databricks.v1+cell": {
     "cellMetadata": {},
     "inputWidgets": {},
     "nuid": "07568e26-0936-482f-a6f3-0f51cc67d2c1",
     "showTitle": false,
     "title": ""
    }
   },
   "source": [
    "### Delta writes/reads with spark"
   ]
  },
  {
   "cell_type": "code",
   "execution_count": 0,
   "metadata": {
    "application/vnd.databricks.v1+cell": {
     "cellMetadata": {
      "byteLimit": 2048000,
      "rowLimit": 10000
     },
     "inputWidgets": {},
     "nuid": "a83916eb-bc55-4655-8737-19f1fbeff5bf",
     "showTitle": false,
     "title": ""
    }
   },
   "outputs": [],
   "source": [
    "delta_path = \"/dbfs/tmp/delta-table\""
   ]
  },
  {
   "cell_type": "code",
   "execution_count": 0,
   "metadata": {
    "application/vnd.databricks.v1+cell": {
     "cellMetadata": {
      "byteLimit": 2048000,
      "rowLimit": 10000
     },
     "inputWidgets": {},
     "nuid": "bb9c1cf6-5a54-455b-8eb2-c6c7233e5edf",
     "showTitle": false,
     "title": ""
    }
   },
   "outputs": [],
   "source": [
    "spark_df.write.format(\"delta\").mode(\"overwrite\").save(delta_path)"
   ]
  },
  {
   "cell_type": "code",
   "execution_count": 0,
   "metadata": {
    "application/vnd.databricks.v1+cell": {
     "cellMetadata": {},
     "inputWidgets": {},
     "nuid": "349cee87-f2ce-4b23-b415-a46e72f70149",
     "showTitle": false,
     "title": ""
    }
   },
   "outputs": [],
   "source": [
    "# # Write with overwrite mode\n",
    "# spark_df.write.format(\"delta\").mode(\"overwrite\").save(\"/path/to/delta-table\")\n",
    "# # Write with append mode\n",
    "# spark_df.write.format(\"parquet\").mode(\"append\").save(\"/path/to/parquet-file\")\n",
    "\n",
    "# # Write and partition by col1\n",
    "# spark_df.write.format(\"delta\").partitionBy(\"col1\").save(\"/path/to/delta-table\")\n",
    "# # Write and partition by col1\n",
    "# spark_df.write.format(\"parquet\").partitionBy(\"col1\").save(\"/path/to/parquet-file\")\n",
    "\n",
    "# Overwrite Specific Partitions: Delta Lake allows you to overwrite specific partitions without affecting the rest of the data.\n",
    "# spark_df.write.format(\"delta\").mode(\"overwrite\").option(\"overwriteSchema\", \"true\").save(\"/path/to/delta-table\")"
   ]
  },
  {
   "cell_type": "code",
   "execution_count": 0,
   "metadata": {
    "application/vnd.databricks.v1+cell": {
     "cellMetadata": {
      "byteLimit": 2048000,
      "rowLimit": 10000
     },
     "inputWidgets": {},
     "nuid": "c781f6ca-f55b-4c52-83bf-6a4965b32365",
     "showTitle": false,
     "title": ""
    }
   },
   "outputs": [],
   "source": [
    "delta_df = spark.read.format(\"delta\").load(delta_path)"
   ]
  },
  {
   "cell_type": "code",
   "execution_count": 0,
   "metadata": {
    "application/vnd.databricks.v1+cell": {
     "cellMetadata": {},
     "inputWidgets": {},
     "nuid": "b45848ad-0341-4766-969b-b02b99014037",
     "showTitle": false,
     "title": ""
    }
   },
   "outputs": [],
   "source": [
    "# # Read Parquet format\n",
    "# parquet_df = spark.read.format(\"parquet\").load(\"/path/to/parquet-file\")"
   ]
  },
  {
   "cell_type": "markdown",
   "metadata": {
    "application/vnd.databricks.v1+cell": {
     "cellMetadata": {},
     "inputWidgets": {},
     "nuid": "fb43361d-570d-45e2-aa21-19c89be8479d",
     "showTitle": false,
     "title": ""
    }
   },
   "source": [
    "### Register tables to hive (1)"
   ]
  },
  {
   "cell_type": "code",
   "execution_count": 0,
   "metadata": {
    "application/vnd.databricks.v1+cell": {
     "cellMetadata": {
      "byteLimit": 2048000,
      "implicitDf": true,
      "rowLimit": 10000
     },
     "inputWidgets": {},
     "nuid": "4629cd5d-57fd-47bd-92e7-c5432cde8ecb",
     "showTitle": false,
     "title": ""
    }
   },
   "outputs": [
    {
     "output_type": "display_data",
     "data": {
      "text/html": [
       "<style scoped>\n",
       "  .table-result-container {\n",
       "    max-height: 300px;\n",
       "    overflow: auto;\n",
       "  }\n",
       "  table, th, td {\n",
       "    border: 1px solid black;\n",
       "    border-collapse: collapse;\n",
       "  }\n",
       "  th, td {\n",
       "    padding: 5px;\n",
       "  }\n",
       "  th {\n",
       "    text-align: left;\n",
       "  }\n",
       "</style><div class='table-result-container'><table class='table-result'><thead style='background-color: white'><tr></tr></thead><tbody></tbody></table></div>"
      ]
     },
     "metadata": {
      "application/vnd.databricks.v1+output": {
       "addedWidgets": {},
       "aggData": [],
       "aggError": "",
       "aggOverflow": false,
       "aggSchema": [],
       "aggSeriesLimitReached": false,
       "aggType": "",
       "arguments": {},
       "columnCustomDisplayInfos": {},
       "data": [],
       "datasetInfos": [],
       "dbfsResultPath": null,
       "isJsonSchema": true,
       "metadata": {
        "dataframeName": null
       },
       "overflow": false,
       "plotOptions": {
        "customPlotOptions": {},
        "displayType": "table",
        "pivotAggregation": null,
        "pivotColumns": null,
        "xColumns": null,
        "yColumns": null
       },
       "removedWidgets": [],
       "schema": [],
       "type": "table"
      }
     },
     "output_type": "display_data"
    }
   ],
   "source": [
    "%sql\n",
    "-- Create a database if not exists\n",
    "CREATE DATABASE IF NOT EXISTS my_database;"
   ]
  },
  {
   "cell_type": "code",
   "execution_count": 0,
   "metadata": {
    "application/vnd.databricks.v1+cell": {
     "cellMetadata": {
      "byteLimit": 2048000,
      "implicitDf": true,
      "rowLimit": 10000
     },
     "inputWidgets": {},
     "nuid": "31bcfb78-5aec-446f-b495-819d66badeb2",
     "showTitle": false,
     "title": ""
    }
   },
   "outputs": [
    {
     "output_type": "display_data",
     "data": {
      "text/html": [
       "<style scoped>\n",
       "  .table-result-container {\n",
       "    max-height: 300px;\n",
       "    overflow: auto;\n",
       "  }\n",
       "  table, th, td {\n",
       "    border: 1px solid black;\n",
       "    border-collapse: collapse;\n",
       "  }\n",
       "  th, td {\n",
       "    padding: 5px;\n",
       "  }\n",
       "  th {\n",
       "    text-align: left;\n",
       "  }\n",
       "</style><div class='table-result-container'><table class='table-result'><thead style='background-color: white'><tr></tr></thead><tbody></tbody></table></div>"
      ]
     },
     "metadata": {
      "application/vnd.databricks.v1+output": {
       "addedWidgets": {},
       "aggData": [],
       "aggError": "",
       "aggOverflow": false,
       "aggSchema": [],
       "aggSeriesLimitReached": false,
       "aggType": "",
       "arguments": {},
       "columnCustomDisplayInfos": {},
       "data": [],
       "datasetInfos": [],
       "dbfsResultPath": null,
       "isJsonSchema": true,
       "metadata": {
        "dataframeName": null
       },
       "overflow": false,
       "plotOptions": {
        "customPlotOptions": {},
        "displayType": "table",
        "pivotAggregation": null,
        "pivotColumns": null,
        "xColumns": null,
        "yColumns": null
       },
       "removedWidgets": [],
       "schema": [],
       "type": "table"
      }
     },
     "output_type": "display_data"
    }
   ],
   "source": [
    "%sql\n",
    "DROP TABLE IF EXISTS my_database.my_table"
   ]
  },
  {
   "cell_type": "code",
   "execution_count": 0,
   "metadata": {
    "application/vnd.databricks.v1+cell": {
     "cellMetadata": {
      "byteLimit": 2048000,
      "implicitDf": true,
      "rowLimit": 10000
     },
     "inputWidgets": {},
     "nuid": "a5e0cdf9-98b4-4ac3-a535-5346abb377a2",
     "showTitle": false,
     "title": ""
    }
   },
   "outputs": [
    {
     "output_type": "display_data",
     "data": {
      "text/html": [
       "<style scoped>\n",
       "  .table-result-container {\n",
       "    max-height: 300px;\n",
       "    overflow: auto;\n",
       "  }\n",
       "  table, th, td {\n",
       "    border: 1px solid black;\n",
       "    border-collapse: collapse;\n",
       "  }\n",
       "  th, td {\n",
       "    padding: 5px;\n",
       "  }\n",
       "  th {\n",
       "    text-align: left;\n",
       "  }\n",
       "</style><div class='table-result-container'><table class='table-result'><thead style='background-color: white'><tr></tr></thead><tbody></tbody></table></div>"
      ]
     },
     "metadata": {
      "application/vnd.databricks.v1+output": {
       "addedWidgets": {},
       "aggData": [],
       "aggError": "",
       "aggOverflow": false,
       "aggSchema": [],
       "aggSeriesLimitReached": false,
       "aggType": "",
       "arguments": {},
       "columnCustomDisplayInfos": {},
       "data": [],
       "datasetInfos": [],
       "dbfsResultPath": null,
       "isJsonSchema": true,
       "metadata": {
        "dataframeName": null
       },
       "overflow": false,
       "plotOptions": {
        "customPlotOptions": {},
        "displayType": "table",
        "pivotAggregation": null,
        "pivotColumns": null,
        "xColumns": null,
        "yColumns": null
       },
       "removedWidgets": [],
       "schema": [],
       "type": "table"
      }
     },
     "output_type": "display_data"
    }
   ],
   "source": [
    "%sql\n",
    "CREATE TABLE IF NOT EXISTS my_database.my_table\n",
    "USING DELTA\n",
    "LOCATION '/dbfs/tmp/delta-table';"
   ]
  },
  {
   "cell_type": "code",
   "execution_count": 0,
   "metadata": {
    "application/vnd.databricks.v1+cell": {
     "cellMetadata": {
      "byteLimit": 2048000,
      "implicitDf": true,
      "rowLimit": 10000
     },
     "inputWidgets": {},
     "nuid": "c3189405-a3a8-4d9f-bbc2-b165a33039ab",
     "showTitle": false,
     "title": ""
    }
   },
   "outputs": [
    {
     "output_type": "display_data",
     "data": {
      "text/html": [
       "<style scoped>\n",
       "  .table-result-container {\n",
       "    max-height: 300px;\n",
       "    overflow: auto;\n",
       "  }\n",
       "  table, th, td {\n",
       "    border: 1px solid black;\n",
       "    border-collapse: collapse;\n",
       "  }\n",
       "  th, td {\n",
       "    padding: 5px;\n",
       "  }\n",
       "  th {\n",
       "    text-align: left;\n",
       "  }\n",
       "</style><div class='table-result-container'><table class='table-result'><thead style='background-color: white'><tr><th>rnd_spend</th><th>administration</th><th>marketing_spend</th><th>state</th><th>profit</th></tr></thead><tbody><tr><td>165349.2</td><td>136897.8</td><td>471784.1</td><td>New York</td><td>192261.83</td></tr><tr><td>162597.7</td><td>151377.59</td><td>443898.53</td><td>California</td><td>191792.06</td></tr><tr><td>153441.51</td><td>101145.55</td><td>407934.54</td><td>Florida</td><td>191050.39</td></tr><tr><td>144372.41</td><td>118671.85</td><td>383199.62</td><td>New York</td><td>182901.99</td></tr><tr><td>142107.34</td><td>91391.77</td><td>366168.42</td><td>Florida</td><td>166187.94</td></tr></tbody></table></div>"
      ]
     },
     "metadata": {
      "application/vnd.databricks.v1+output": {
       "addedWidgets": {},
       "aggData": [],
       "aggError": "",
       "aggOverflow": false,
       "aggSchema": [],
       "aggSeriesLimitReached": false,
       "aggType": "",
       "arguments": {},
       "columnCustomDisplayInfos": {},
       "data": [
        [
         165349.2,
         136897.8,
         471784.1,
         "New York",
         192261.83
        ],
        [
         162597.7,
         151377.59,
         443898.53,
         "California",
         191792.06
        ],
        [
         153441.51,
         101145.55,
         407934.54,
         "Florida",
         191050.39
        ],
        [
         144372.41,
         118671.85,
         383199.62,
         "New York",
         182901.99
        ],
        [
         142107.34,
         91391.77,
         366168.42,
         "Florida",
         166187.94
        ]
       ],
       "datasetInfos": [],
       "dbfsResultPath": null,
       "isJsonSchema": true,
       "metadata": {
        "dataframeName": "_sqldf",
        "executionCount": 17
       },
       "overflow": false,
       "plotOptions": {
        "customPlotOptions": {},
        "displayType": "table",
        "pivotAggregation": null,
        "pivotColumns": null,
        "xColumns": null,
        "yColumns": null
       },
       "removedWidgets": [],
       "schema": [
        {
         "metadata": "{}",
         "name": "rnd_spend",
         "type": "\"double\""
        },
        {
         "metadata": "{}",
         "name": "administration",
         "type": "\"double\""
        },
        {
         "metadata": "{}",
         "name": "marketing_spend",
         "type": "\"double\""
        },
        {
         "metadata": "{}",
         "name": "state",
         "type": "\"string\""
        },
        {
         "metadata": "{}",
         "name": "profit",
         "type": "\"double\""
        }
       ],
       "type": "table"
      }
     },
     "output_type": "display_data"
    }
   ],
   "source": [
    "%sql\n",
    "SELECT * FROM my_database.my_table LIMIT 5;"
   ]
  },
  {
   "cell_type": "markdown",
   "metadata": {
    "application/vnd.databricks.v1+cell": {
     "cellMetadata": {},
     "inputWidgets": {},
     "nuid": "9aa2cbcd-9b7d-4a57-9eb2-8528802bf456",
     "showTitle": false,
     "title": ""
    }
   },
   "source": [
    "### Register tables to hive (2)"
   ]
  },
  {
   "cell_type": "code",
   "execution_count": 0,
   "metadata": {
    "application/vnd.databricks.v1+cell": {
     "cellMetadata": {
      "byteLimit": 2048000,
      "rowLimit": 10000
     },
     "inputWidgets": {},
     "nuid": "ab947daa-e267-43d1-8d0e-a3ddb7218e55",
     "showTitle": false,
     "title": ""
    }
   },
   "outputs": [],
   "source": [
    "delta_df.select(\"rnd_spend\",\"profit\").write.mode(\"overwrite\").saveAsTable(\"my_database.my_table_2cols\")"
   ]
  },
  {
   "cell_type": "code",
   "execution_count": 0,
   "metadata": {
    "application/vnd.databricks.v1+cell": {
     "cellMetadata": {
      "byteLimit": 2048000,
      "implicitDf": true,
      "rowLimit": 10000
     },
     "inputWidgets": {},
     "nuid": "b5545dea-e18e-4231-b823-5aba09ecfa1a",
     "showTitle": false,
     "title": ""
    }
   },
   "outputs": [
    {
     "output_type": "display_data",
     "data": {
      "text/html": [
       "<style scoped>\n",
       "  .table-result-container {\n",
       "    max-height: 300px;\n",
       "    overflow: auto;\n",
       "  }\n",
       "  table, th, td {\n",
       "    border: 1px solid black;\n",
       "    border-collapse: collapse;\n",
       "  }\n",
       "  th, td {\n",
       "    padding: 5px;\n",
       "  }\n",
       "  th {\n",
       "    text-align: left;\n",
       "  }\n",
       "</style><div class='table-result-container'><table class='table-result'><thead style='background-color: white'><tr><th>database</th><th>tableName</th><th>isTemporary</th></tr></thead><tbody><tr><td>my_database</td><td>iris</td><td>false</td></tr><tr><td>my_database</td><td>my_feats</td><td>false</td></tr><tr><td>my_database</td><td>my_table</td><td>false</td></tr><tr><td>my_database</td><td>my_table_2cols</td><td>false</td></tr><tr><td></td><td>my_temp_table</td><td>true</td></tr></tbody></table></div>"
      ]
     },
     "metadata": {
      "application/vnd.databricks.v1+output": {
       "addedWidgets": {},
       "aggData": [],
       "aggError": "",
       "aggOverflow": false,
       "aggSchema": [],
       "aggSeriesLimitReached": false,
       "aggType": "",
       "arguments": {},
       "columnCustomDisplayInfos": {},
       "data": [
        [
         "my_database",
         "iris",
         false
        ],
        [
         "my_database",
         "my_feats",
         false
        ],
        [
         "my_database",
         "my_table",
         false
        ],
        [
         "my_database",
         "my_table_2cols",
         false
        ],
        [
         "",
         "my_temp_table",
         true
        ]
       ],
       "datasetInfos": [],
       "dbfsResultPath": null,
       "isJsonSchema": true,
       "metadata": {
        "dataframeName": "_sqldf",
        "executionCount": 58
       },
       "overflow": false,
       "plotOptions": {
        "customPlotOptions": {},
        "displayType": "table",
        "pivotAggregation": null,
        "pivotColumns": null,
        "xColumns": null,
        "yColumns": null
       },
       "removedWidgets": [],
       "schema": [
        {
         "metadata": "{}",
         "name": "database",
         "type": "\"string\""
        },
        {
         "metadata": "{}",
         "name": "tableName",
         "type": "\"string\""
        },
        {
         "metadata": "{}",
         "name": "isTemporary",
         "type": "\"boolean\""
        }
       ],
       "type": "table"
      }
     },
     "output_type": "display_data"
    }
   ],
   "source": [
    "%sql\n",
    "SHOW TABLES IN my_database;"
   ]
  },
  {
   "cell_type": "code",
   "execution_count": 0,
   "metadata": {
    "application/vnd.databricks.v1+cell": {
     "cellMetadata": {
      "byteLimit": 2048000,
      "implicitDf": true,
      "rowLimit": 10000
     },
     "inputWidgets": {},
     "nuid": "e1b12e68-4a84-4e81-8085-ea7ca6bd5fbd",
     "showTitle": false,
     "title": ""
    }
   },
   "outputs": [
    {
     "output_type": "display_data",
     "data": {
      "text/html": [
       "<style scoped>\n",
       "  .table-result-container {\n",
       "    max-height: 300px;\n",
       "    overflow: auto;\n",
       "  }\n",
       "  table, th, td {\n",
       "    border: 1px solid black;\n",
       "    border-collapse: collapse;\n",
       "  }\n",
       "  th, td {\n",
       "    padding: 5px;\n",
       "  }\n",
       "  th {\n",
       "    text-align: left;\n",
       "  }\n",
       "</style><div class='table-result-container'><table class='table-result'><thead style='background-color: white'><tr><th>rnd_spend</th><th>profit</th></tr></thead><tbody><tr><td>165349.2</td><td>192261.83</td></tr><tr><td>162597.7</td><td>191792.06</td></tr><tr><td>153441.51</td><td>191050.39</td></tr><tr><td>144372.41</td><td>182901.99</td></tr><tr><td>142107.34</td><td>166187.94</td></tr></tbody></table></div>"
      ]
     },
     "metadata": {
      "application/vnd.databricks.v1+output": {
       "addedWidgets": {},
       "aggData": [],
       "aggError": "",
       "aggOverflow": false,
       "aggSchema": [],
       "aggSeriesLimitReached": false,
       "aggType": "",
       "arguments": {},
       "columnCustomDisplayInfos": {},
       "data": [
        [
         165349.2,
         192261.83
        ],
        [
         162597.7,
         191792.06
        ],
        [
         153441.51,
         191050.39
        ],
        [
         144372.41,
         182901.99
        ],
        [
         142107.34,
         166187.94
        ]
       ],
       "datasetInfos": [],
       "dbfsResultPath": null,
       "isJsonSchema": true,
       "metadata": {
        "dataframeName": "_sqldf",
        "executionCount": 60
       },
       "overflow": false,
       "plotOptions": {
        "customPlotOptions": {},
        "displayType": "table",
        "pivotAggregation": null,
        "pivotColumns": null,
        "xColumns": null,
        "yColumns": null
       },
       "removedWidgets": [],
       "schema": [
        {
         "metadata": "{}",
         "name": "rnd_spend",
         "type": "\"double\""
        },
        {
         "metadata": "{}",
         "name": "profit",
         "type": "\"double\""
        }
       ],
       "type": "table"
      }
     },
     "output_type": "display_data"
    }
   ],
   "source": [
    "%sql\n",
    "SELECT * FROM my_database.my_table_2cols LIMIT 5;"
   ]
  },
  {
   "cell_type": "markdown",
   "metadata": {
    "application/vnd.databricks.v1+cell": {
     "cellMetadata": {},
     "inputWidgets": {},
     "nuid": "a320b40e-79a6-40c8-8f68-9a1610629d3d",
     "showTitle": false,
     "title": ""
    }
   },
   "source": [
    "### List tables and temp views"
   ]
  },
  {
   "cell_type": "code",
   "execution_count": 0,
   "metadata": {
    "application/vnd.databricks.v1+cell": {
     "cellMetadata": {
      "byteLimit": 2048000,
      "implicitDf": true,
      "rowLimit": 10000
     },
     "inputWidgets": {},
     "nuid": "331c974c-af4b-4f5f-9d64-c05329aad405",
     "showTitle": false,
     "title": ""
    }
   },
   "outputs": [
    {
     "output_type": "display_data",
     "data": {
      "text/html": [
       "<style scoped>\n",
       "  .table-result-container {\n",
       "    max-height: 300px;\n",
       "    overflow: auto;\n",
       "  }\n",
       "  table, th, td {\n",
       "    border: 1px solid black;\n",
       "    border-collapse: collapse;\n",
       "  }\n",
       "  th, td {\n",
       "    padding: 5px;\n",
       "  }\n",
       "  th {\n",
       "    text-align: left;\n",
       "  }\n",
       "</style><div class='table-result-container'><table class='table-result'><thead style='background-color: white'><tr><th>database</th><th>tableName</th><th>isTemporary</th></tr></thead><tbody><tr><td></td><td>my_temp_table</td><td>true</td></tr></tbody></table></div>"
      ]
     },
     "metadata": {
      "application/vnd.databricks.v1+output": {
       "addedWidgets": {},
       "aggData": [],
       "aggError": "",
       "aggOverflow": false,
       "aggSchema": [],
       "aggSeriesLimitReached": false,
       "aggType": "",
       "arguments": {},
       "columnCustomDisplayInfos": {},
       "data": [
        [
         "",
         "my_temp_table",
         true
        ]
       ],
       "datasetInfos": [],
       "dbfsResultPath": null,
       "isJsonSchema": true,
       "metadata": {
        "dataframeName": "_sqldf",
        "executionCount": 20
       },
       "overflow": false,
       "plotOptions": {
        "customPlotOptions": {},
        "displayType": "table",
        "pivotAggregation": null,
        "pivotColumns": null,
        "xColumns": null,
        "yColumns": null
       },
       "removedWidgets": [],
       "schema": [
        {
         "metadata": "{}",
         "name": "database",
         "type": "\"string\""
        },
        {
         "metadata": "{}",
         "name": "tableName",
         "type": "\"string\""
        },
        {
         "metadata": "{}",
         "name": "isTemporary",
         "type": "\"boolean\""
        }
       ],
       "type": "table"
      }
     },
     "output_type": "display_data"
    }
   ],
   "source": [
    "%sql\n",
    "SHOW TABLES;"
   ]
  },
  {
   "cell_type": "code",
   "execution_count": 0,
   "metadata": {
    "application/vnd.databricks.v1+cell": {
     "cellMetadata": {
      "byteLimit": 2048000,
      "implicitDf": true,
      "rowLimit": 10000
     },
     "inputWidgets": {},
     "nuid": "37d800fa-9e02-44a9-a6cd-c62a4be64688",
     "showTitle": false,
     "title": ""
    }
   },
   "outputs": [
    {
     "output_type": "display_data",
     "data": {
      "text/html": [
       "<style scoped>\n",
       "  .table-result-container {\n",
       "    max-height: 300px;\n",
       "    overflow: auto;\n",
       "  }\n",
       "  table, th, td {\n",
       "    border: 1px solid black;\n",
       "    border-collapse: collapse;\n",
       "  }\n",
       "  th, td {\n",
       "    padding: 5px;\n",
       "  }\n",
       "  th {\n",
       "    text-align: left;\n",
       "  }\n",
       "</style><div class='table-result-container'><table class='table-result'><thead style='background-color: white'><tr><th>namespace</th><th>viewName</th><th>isTemporary</th><th>isMaterialized</th></tr></thead><tbody><tr><td></td><td>my_temp_table</td><td>true</td><td>false</td></tr></tbody></table></div>"
      ]
     },
     "metadata": {
      "application/vnd.databricks.v1+output": {
       "addedWidgets": {},
       "aggData": [],
       "aggError": "",
       "aggOverflow": false,
       "aggSchema": [],
       "aggSeriesLimitReached": false,
       "aggType": "",
       "arguments": {},
       "columnCustomDisplayInfos": {},
       "data": [
        [
         "",
         "my_temp_table",
         true,
         false
        ]
       ],
       "datasetInfos": [],
       "dbfsResultPath": null,
       "isJsonSchema": true,
       "metadata": {
        "dataframeName": "_sqldf",
        "executionCount": 21
       },
       "overflow": false,
       "plotOptions": {
        "customPlotOptions": {},
        "displayType": "table",
        "pivotAggregation": null,
        "pivotColumns": null,
        "xColumns": null,
        "yColumns": null
       },
       "removedWidgets": [],
       "schema": [
        {
         "metadata": "{}",
         "name": "namespace",
         "type": "\"string\""
        },
        {
         "metadata": "{}",
         "name": "viewName",
         "type": "\"string\""
        },
        {
         "metadata": "{}",
         "name": "isTemporary",
         "type": "\"boolean\""
        },
        {
         "metadata": "{}",
         "name": "isMaterialized",
         "type": "\"boolean\""
        }
       ],
       "type": "table"
      }
     },
     "output_type": "display_data"
    }
   ],
   "source": [
    "%sql\n",
    "SHOW VIEWS;"
   ]
  },
  {
   "cell_type": "code",
   "execution_count": 0,
   "metadata": {
    "application/vnd.databricks.v1+cell": {
     "cellMetadata": {
      "byteLimit": 2048000,
      "rowLimit": 10000
     },
     "inputWidgets": {},
     "nuid": "ad84d3ed-61df-4eb4-9bbd-3846eb07ac83",
     "showTitle": false,
     "title": ""
    }
   },
   "outputs": [
    {
     "output_type": "execute_result",
     "data": {
      "text/plain": [
       "[Table(name='my_table', catalog='spark_catalog', namespace=['my_database'], description=None, tableType='EXTERNAL', isTemporary=False),\n",
       " Table(name='my_temp_table', catalog=None, namespace=[], description=None, tableType='TEMPORARY', isTemporary=True)]"
      ]
     },
     "execution_count": 31,
     "metadata": {},
     "output_type": "execute_result"
    }
   ],
   "source": [
    "table_list = spark.catalog.listTables('my_database')\n",
    "table_list"
   ]
  },
  {
   "cell_type": "code",
   "execution_count": 0,
   "metadata": {
    "application/vnd.databricks.v1+cell": {
     "cellMetadata": {
      "byteLimit": 2048000,
      "rowLimit": 10000
     },
     "inputWidgets": {},
     "nuid": "bea716e9-bbf4-4c83-837d-292ab07cd0d7",
     "showTitle": false,
     "title": ""
    }
   },
   "outputs": [
    {
     "output_type": "stream",
     "name": "stdout",
     "output_type": "stream",
     "text": [
      "[('my_table', 'my_database', False), ('my_temp_table', None, True)]\n"
     ]
    }
   ],
   "source": [
    "table_list = [(x.name,x.database,x.isTemporary) for x in table_list]\n",
    "print(table_list)"
   ]
  },
  {
   "cell_type": "markdown",
   "metadata": {
    "application/vnd.databricks.v1+cell": {
     "cellMetadata": {},
     "inputWidgets": {},
     "nuid": "d9ca51da-ea99-4e73-b81d-7050ccafd946",
     "showTitle": false,
     "title": ""
    }
   },
   "source": [
    "### Read tables with spark sql"
   ]
  },
  {
   "cell_type": "code",
   "execution_count": 0,
   "metadata": {
    "application/vnd.databricks.v1+cell": {
     "cellMetadata": {
      "byteLimit": 2048000,
      "rowLimit": 10000
     },
     "inputWidgets": {},
     "nuid": "21e2892b-3e90-42e8-8160-9451ccbeaec2",
     "showTitle": false,
     "title": ""
    }
   },
   "outputs": [
    {
     "output_type": "display_data",
     "data": {
      "text/html": [
       "<style scoped>\n",
       "  .table-result-container {\n",
       "    max-height: 300px;\n",
       "    overflow: auto;\n",
       "  }\n",
       "  table, th, td {\n",
       "    border: 1px solid black;\n",
       "    border-collapse: collapse;\n",
       "  }\n",
       "  th, td {\n",
       "    padding: 5px;\n",
       "  }\n",
       "  th {\n",
       "    text-align: left;\n",
       "  }\n",
       "</style><div class='table-result-container'><table class='table-result'><thead style='background-color: white'><tr><th>rnd_spend</th><th>administration</th><th>marketing_spend</th><th>state</th><th>profit</th></tr></thead><tbody><tr><td>165349.2</td><td>136897.8</td><td>471784.1</td><td>New York</td><td>192261.83</td></tr><tr><td>162597.7</td><td>151377.59</td><td>443898.53</td><td>California</td><td>191792.06</td></tr><tr><td>153441.51</td><td>101145.55</td><td>407934.54</td><td>Florida</td><td>191050.39</td></tr><tr><td>144372.41</td><td>118671.85</td><td>383199.62</td><td>New York</td><td>182901.99</td></tr><tr><td>142107.34</td><td>91391.77</td><td>366168.42</td><td>Florida</td><td>166187.94</td></tr><tr><td>131876.9</td><td>99814.71</td><td>362861.36</td><td>New York</td><td>156991.12</td></tr><tr><td>134615.46</td><td>147198.87</td><td>127716.82</td><td>California</td><td>156122.51</td></tr><tr><td>130298.13</td><td>145530.06</td><td>323876.68</td><td>Florida</td><td>155752.6</td></tr><tr><td>120542.52</td><td>148718.95</td><td>311613.29</td><td>New York</td><td>152211.77</td></tr><tr><td>123334.88</td><td>108679.17</td><td>304981.62</td><td>California</td><td>149759.96</td></tr><tr><td>101913.08</td><td>110594.11</td><td>229160.95</td><td>Florida</td><td>146121.95</td></tr><tr><td>100671.96</td><td>91790.61</td><td>249744.55</td><td>California</td><td>144259.4</td></tr><tr><td>93863.75</td><td>127320.38</td><td>249839.44</td><td>Florida</td><td>141585.52</td></tr><tr><td>91992.39</td><td>135495.07</td><td>252664.93</td><td>California</td><td>134307.35</td></tr><tr><td>119943.24</td><td>156547.42</td><td>256512.92</td><td>Florida</td><td>132602.65</td></tr><tr><td>114523.61</td><td>122616.84</td><td>261776.23</td><td>New York</td><td>129917.04</td></tr><tr><td>78013.11</td><td>121597.55</td><td>264346.06</td><td>California</td><td>126992.93</td></tr><tr><td>94657.16</td><td>145077.58</td><td>282574.31</td><td>New York</td><td>125370.37</td></tr><tr><td>91749.16</td><td>114175.79</td><td>294919.57</td><td>Florida</td><td>124266.9</td></tr><tr><td>86419.7</td><td>153514.11</td><td>0.0</td><td>New York</td><td>122776.86</td></tr><tr><td>76253.86</td><td>113867.3</td><td>298664.47</td><td>California</td><td>118474.03</td></tr><tr><td>78389.47</td><td>153773.43</td><td>299737.29</td><td>New York</td><td>111313.02</td></tr><tr><td>73994.56</td><td>122782.75</td><td>303319.26</td><td>Florida</td><td>110352.25</td></tr><tr><td>67532.53</td><td>105751.03</td><td>304768.73</td><td>Florida</td><td>108733.99</td></tr><tr><td>77044.01</td><td>99281.34</td><td>140574.81</td><td>New York</td><td>108552.04</td></tr><tr><td>64664.71</td><td>139553.16</td><td>137962.62</td><td>California</td><td>107404.34</td></tr><tr><td>75328.87</td><td>144135.98</td><td>134050.07</td><td>Florida</td><td>105733.54</td></tr><tr><td>72107.6</td><td>127864.55</td><td>353183.81</td><td>New York</td><td>105008.31</td></tr><tr><td>66051.52</td><td>182645.56</td><td>118148.2</td><td>Florida</td><td>103282.38</td></tr><tr><td>65605.48</td><td>153032.06</td><td>107138.38</td><td>New York</td><td>101004.64</td></tr><tr><td>61994.48</td><td>115641.28</td><td>91131.24</td><td>Florida</td><td>99937.59</td></tr><tr><td>61136.38</td><td>152701.92</td><td>88218.23</td><td>New York</td><td>97483.56</td></tr><tr><td>63408.86</td><td>129219.61</td><td>46085.25</td><td>California</td><td>97427.84</td></tr><tr><td>55493.95</td><td>103057.49</td><td>214634.81</td><td>Florida</td><td>96778.92</td></tr><tr><td>46426.07</td><td>157693.92</td><td>210797.67</td><td>California</td><td>96712.8</td></tr><tr><td>46014.02</td><td>85047.44</td><td>205517.64</td><td>New York</td><td>96479.51</td></tr><tr><td>28663.76</td><td>127056.21</td><td>201126.82</td><td>Florida</td><td>90708.19</td></tr><tr><td>44069.95</td><td>51283.14</td><td>197029.42</td><td>California</td><td>89949.14</td></tr><tr><td>20229.59</td><td>65947.93</td><td>185265.1</td><td>New York</td><td>81229.06</td></tr><tr><td>38558.51</td><td>82982.09</td><td>174999.3</td><td>California</td><td>81005.76</td></tr><tr><td>28754.33</td><td>118546.05</td><td>172795.67</td><td>California</td><td>78239.91</td></tr><tr><td>27892.92</td><td>84710.77</td><td>164470.71</td><td>Florida</td><td>77798.83</td></tr><tr><td>23640.93</td><td>96189.63</td><td>148001.11</td><td>California</td><td>71498.49</td></tr><tr><td>15505.73</td><td>127382.3</td><td>35534.17</td><td>New York</td><td>69758.98</td></tr><tr><td>22177.74</td><td>154806.14</td><td>28334.72</td><td>California</td><td>65200.33</td></tr><tr><td>1000.23</td><td>124153.04</td><td>1903.93</td><td>New York</td><td>64926.08</td></tr><tr><td>1315.46</td><td>115816.21</td><td>297114.46</td><td>Florida</td><td>49490.75</td></tr><tr><td>0.0</td><td>135426.92</td><td>0.0</td><td>California</td><td>42559.73</td></tr><tr><td>542.05</td><td>51743.15</td><td>0.0</td><td>New York</td><td>35673.41</td></tr><tr><td>0.0</td><td>116983.8</td><td>45173.06</td><td>California</td><td>14681.4</td></tr></tbody></table></div>"
      ]
     },
     "metadata": {
      "application/vnd.databricks.v1+output": {
       "addedWidgets": {},
       "aggData": [],
       "aggError": "",
       "aggOverflow": false,
       "aggSchema": [],
       "aggSeriesLimitReached": false,
       "aggType": "",
       "arguments": {},
       "columnCustomDisplayInfos": {},
       "data": [
        [
         165349.2,
         136897.8,
         471784.1,
         "New York",
         192261.83
        ],
        [
         162597.7,
         151377.59,
         443898.53,
         "California",
         191792.06
        ],
        [
         153441.51,
         101145.55,
         407934.54,
         "Florida",
         191050.39
        ],
        [
         144372.41,
         118671.85,
         383199.62,
         "New York",
         182901.99
        ],
        [
         142107.34,
         91391.77,
         366168.42,
         "Florida",
         166187.94
        ],
        [
         131876.9,
         99814.71,
         362861.36,
         "New York",
         156991.12
        ],
        [
         134615.46,
         147198.87,
         127716.82,
         "California",
         156122.51
        ],
        [
         130298.13,
         145530.06,
         323876.68,
         "Florida",
         155752.6
        ],
        [
         120542.52,
         148718.95,
         311613.29,
         "New York",
         152211.77
        ],
        [
         123334.88,
         108679.17,
         304981.62,
         "California",
         149759.96
        ],
        [
         101913.08,
         110594.11,
         229160.95,
         "Florida",
         146121.95
        ],
        [
         100671.96,
         91790.61,
         249744.55,
         "California",
         144259.4
        ],
        [
         93863.75,
         127320.38,
         249839.44,
         "Florida",
         141585.52
        ],
        [
         91992.39,
         135495.07,
         252664.93,
         "California",
         134307.35
        ],
        [
         119943.24,
         156547.42,
         256512.92,
         "Florida",
         132602.65
        ],
        [
         114523.61,
         122616.84,
         261776.23,
         "New York",
         129917.04
        ],
        [
         78013.11,
         121597.55,
         264346.06,
         "California",
         126992.93
        ],
        [
         94657.16,
         145077.58,
         282574.31,
         "New York",
         125370.37
        ],
        [
         91749.16,
         114175.79,
         294919.57,
         "Florida",
         124266.9
        ],
        [
         86419.7,
         153514.11,
         0.0,
         "New York",
         122776.86
        ],
        [
         76253.86,
         113867.3,
         298664.47,
         "California",
         118474.03
        ],
        [
         78389.47,
         153773.43,
         299737.29,
         "New York",
         111313.02
        ],
        [
         73994.56,
         122782.75,
         303319.26,
         "Florida",
         110352.25
        ],
        [
         67532.53,
         105751.03,
         304768.73,
         "Florida",
         108733.99
        ],
        [
         77044.01,
         99281.34,
         140574.81,
         "New York",
         108552.04
        ],
        [
         64664.71,
         139553.16,
         137962.62,
         "California",
         107404.34
        ],
        [
         75328.87,
         144135.98,
         134050.07,
         "Florida",
         105733.54
        ],
        [
         72107.6,
         127864.55,
         353183.81,
         "New York",
         105008.31
        ],
        [
         66051.52,
         182645.56,
         118148.2,
         "Florida",
         103282.38
        ],
        [
         65605.48,
         153032.06,
         107138.38,
         "New York",
         101004.64
        ],
        [
         61994.48,
         115641.28,
         91131.24,
         "Florida",
         99937.59
        ],
        [
         61136.38,
         152701.92,
         88218.23,
         "New York",
         97483.56
        ],
        [
         63408.86,
         129219.61,
         46085.25,
         "California",
         97427.84
        ],
        [
         55493.95,
         103057.49,
         214634.81,
         "Florida",
         96778.92
        ],
        [
         46426.07,
         157693.92,
         210797.67,
         "California",
         96712.8
        ],
        [
         46014.02,
         85047.44,
         205517.64,
         "New York",
         96479.51
        ],
        [
         28663.76,
         127056.21,
         201126.82,
         "Florida",
         90708.19
        ],
        [
         44069.95,
         51283.14,
         197029.42,
         "California",
         89949.14
        ],
        [
         20229.59,
         65947.93,
         185265.1,
         "New York",
         81229.06
        ],
        [
         38558.51,
         82982.09,
         174999.3,
         "California",
         81005.76
        ],
        [
         28754.33,
         118546.05,
         172795.67,
         "California",
         78239.91
        ],
        [
         27892.92,
         84710.77,
         164470.71,
         "Florida",
         77798.83
        ],
        [
         23640.93,
         96189.63,
         148001.11,
         "California",
         71498.49
        ],
        [
         15505.73,
         127382.3,
         35534.17,
         "New York",
         69758.98
        ],
        [
         22177.74,
         154806.14,
         28334.72,
         "California",
         65200.33
        ],
        [
         1000.23,
         124153.04,
         1903.93,
         "New York",
         64926.08
        ],
        [
         1315.46,
         115816.21,
         297114.46,
         "Florida",
         49490.75
        ],
        [
         0.0,
         135426.92,
         0.0,
         "California",
         42559.73
        ],
        [
         542.05,
         51743.15,
         0.0,
         "New York",
         35673.41
        ],
        [
         0.0,
         116983.8,
         45173.06,
         "California",
         14681.4
        ]
       ],
       "datasetInfos": [],
       "dbfsResultPath": null,
       "isJsonSchema": true,
       "metadata": {},
       "overflow": false,
       "plotOptions": {
        "customPlotOptions": {},
        "displayType": "table",
        "pivotAggregation": null,
        "pivotColumns": null,
        "xColumns": null,
        "yColumns": null
       },
       "removedWidgets": [],
       "schema": [
        {
         "metadata": "{}",
         "name": "rnd_spend",
         "type": "\"double\""
        },
        {
         "metadata": "{}",
         "name": "administration",
         "type": "\"double\""
        },
        {
         "metadata": "{}",
         "name": "marketing_spend",
         "type": "\"double\""
        },
        {
         "metadata": "{}",
         "name": "state",
         "type": "\"string\""
        },
        {
         "metadata": "{}",
         "name": "profit",
         "type": "\"double\""
        }
       ],
       "type": "table"
      }
     },
     "output_type": "display_data"
    }
   ],
   "source": [
    "# read registered table\n",
    "display(spark.sql(\"SELECT * FROM my_database.my_table\"))"
   ]
  },
  {
   "cell_type": "code",
   "execution_count": 0,
   "metadata": {
    "application/vnd.databricks.v1+cell": {
     "cellMetadata": {
      "byteLimit": 2048000,
      "rowLimit": 10000
     },
     "inputWidgets": {},
     "nuid": "67673d8a-4f3b-4b63-9838-1e2bc540f17a",
     "showTitle": false,
     "title": ""
    }
   },
   "outputs": [
    {
     "output_type": "display_data",
     "data": {
      "text/html": [
       "<style scoped>\n",
       "  .table-result-container {\n",
       "    max-height: 300px;\n",
       "    overflow: auto;\n",
       "  }\n",
       "  table, th, td {\n",
       "    border: 1px solid black;\n",
       "    border-collapse: collapse;\n",
       "  }\n",
       "  th, td {\n",
       "    padding: 5px;\n",
       "  }\n",
       "  th {\n",
       "    text-align: left;\n",
       "  }\n",
       "</style><div class='table-result-container'><table class='table-result'><thead style='background-color: white'><tr><th>rnd_spend</th><th>administration</th><th>marketing_spend</th><th>state</th><th>profit</th></tr></thead><tbody><tr><td>165349.2</td><td>136897.8</td><td>471784.1</td><td>New York</td><td>192261.83</td></tr><tr><td>162597.7</td><td>151377.59</td><td>443898.53</td><td>California</td><td>191792.06</td></tr><tr><td>153441.51</td><td>101145.55</td><td>407934.54</td><td>Florida</td><td>191050.39</td></tr><tr><td>144372.41</td><td>118671.85</td><td>383199.62</td><td>New York</td><td>182901.99</td></tr><tr><td>142107.34</td><td>91391.77</td><td>366168.42</td><td>Florida</td><td>166187.94</td></tr><tr><td>131876.9</td><td>99814.71</td><td>362861.36</td><td>New York</td><td>156991.12</td></tr><tr><td>134615.46</td><td>147198.87</td><td>127716.82</td><td>California</td><td>156122.51</td></tr><tr><td>130298.13</td><td>145530.06</td><td>323876.68</td><td>Florida</td><td>155752.6</td></tr><tr><td>120542.52</td><td>148718.95</td><td>311613.29</td><td>New York</td><td>152211.77</td></tr><tr><td>123334.88</td><td>108679.17</td><td>304981.62</td><td>California</td><td>149759.96</td></tr><tr><td>101913.08</td><td>110594.11</td><td>229160.95</td><td>Florida</td><td>146121.95</td></tr><tr><td>100671.96</td><td>91790.61</td><td>249744.55</td><td>California</td><td>144259.4</td></tr><tr><td>93863.75</td><td>127320.38</td><td>249839.44</td><td>Florida</td><td>141585.52</td></tr><tr><td>91992.39</td><td>135495.07</td><td>252664.93</td><td>California</td><td>134307.35</td></tr><tr><td>119943.24</td><td>156547.42</td><td>256512.92</td><td>Florida</td><td>132602.65</td></tr><tr><td>114523.61</td><td>122616.84</td><td>261776.23</td><td>New York</td><td>129917.04</td></tr><tr><td>78013.11</td><td>121597.55</td><td>264346.06</td><td>California</td><td>126992.93</td></tr><tr><td>94657.16</td><td>145077.58</td><td>282574.31</td><td>New York</td><td>125370.37</td></tr><tr><td>91749.16</td><td>114175.79</td><td>294919.57</td><td>Florida</td><td>124266.9</td></tr><tr><td>86419.7</td><td>153514.11</td><td>0.0</td><td>New York</td><td>122776.86</td></tr><tr><td>76253.86</td><td>113867.3</td><td>298664.47</td><td>California</td><td>118474.03</td></tr><tr><td>78389.47</td><td>153773.43</td><td>299737.29</td><td>New York</td><td>111313.02</td></tr><tr><td>73994.56</td><td>122782.75</td><td>303319.26</td><td>Florida</td><td>110352.25</td></tr><tr><td>67532.53</td><td>105751.03</td><td>304768.73</td><td>Florida</td><td>108733.99</td></tr><tr><td>77044.01</td><td>99281.34</td><td>140574.81</td><td>New York</td><td>108552.04</td></tr><tr><td>64664.71</td><td>139553.16</td><td>137962.62</td><td>California</td><td>107404.34</td></tr><tr><td>75328.87</td><td>144135.98</td><td>134050.07</td><td>Florida</td><td>105733.54</td></tr><tr><td>72107.6</td><td>127864.55</td><td>353183.81</td><td>New York</td><td>105008.31</td></tr><tr><td>66051.52</td><td>182645.56</td><td>118148.2</td><td>Florida</td><td>103282.38</td></tr><tr><td>65605.48</td><td>153032.06</td><td>107138.38</td><td>New York</td><td>101004.64</td></tr><tr><td>61994.48</td><td>115641.28</td><td>91131.24</td><td>Florida</td><td>99937.59</td></tr><tr><td>61136.38</td><td>152701.92</td><td>88218.23</td><td>New York</td><td>97483.56</td></tr><tr><td>63408.86</td><td>129219.61</td><td>46085.25</td><td>California</td><td>97427.84</td></tr><tr><td>55493.95</td><td>103057.49</td><td>214634.81</td><td>Florida</td><td>96778.92</td></tr><tr><td>46426.07</td><td>157693.92</td><td>210797.67</td><td>California</td><td>96712.8</td></tr><tr><td>46014.02</td><td>85047.44</td><td>205517.64</td><td>New York</td><td>96479.51</td></tr><tr><td>28663.76</td><td>127056.21</td><td>201126.82</td><td>Florida</td><td>90708.19</td></tr><tr><td>44069.95</td><td>51283.14</td><td>197029.42</td><td>California</td><td>89949.14</td></tr><tr><td>20229.59</td><td>65947.93</td><td>185265.1</td><td>New York</td><td>81229.06</td></tr><tr><td>38558.51</td><td>82982.09</td><td>174999.3</td><td>California</td><td>81005.76</td></tr><tr><td>28754.33</td><td>118546.05</td><td>172795.67</td><td>California</td><td>78239.91</td></tr><tr><td>27892.92</td><td>84710.77</td><td>164470.71</td><td>Florida</td><td>77798.83</td></tr><tr><td>23640.93</td><td>96189.63</td><td>148001.11</td><td>California</td><td>71498.49</td></tr><tr><td>15505.73</td><td>127382.3</td><td>35534.17</td><td>New York</td><td>69758.98</td></tr><tr><td>22177.74</td><td>154806.14</td><td>28334.72</td><td>California</td><td>65200.33</td></tr><tr><td>1000.23</td><td>124153.04</td><td>1903.93</td><td>New York</td><td>64926.08</td></tr><tr><td>1315.46</td><td>115816.21</td><td>297114.46</td><td>Florida</td><td>49490.75</td></tr><tr><td>0.0</td><td>135426.92</td><td>0.0</td><td>California</td><td>42559.73</td></tr><tr><td>542.05</td><td>51743.15</td><td>0.0</td><td>New York</td><td>35673.41</td></tr><tr><td>0.0</td><td>116983.8</td><td>45173.06</td><td>California</td><td>14681.4</td></tr></tbody></table></div>"
      ]
     },
     "metadata": {
      "application/vnd.databricks.v1+output": {
       "addedWidgets": {},
       "aggData": [],
       "aggError": "",
       "aggOverflow": false,
       "aggSchema": [],
       "aggSeriesLimitReached": false,
       "aggType": "",
       "arguments": {},
       "columnCustomDisplayInfos": {},
       "data": [
        [
         165349.2,
         136897.8,
         471784.1,
         "New York",
         192261.83
        ],
        [
         162597.7,
         151377.59,
         443898.53,
         "California",
         191792.06
        ],
        [
         153441.51,
         101145.55,
         407934.54,
         "Florida",
         191050.39
        ],
        [
         144372.41,
         118671.85,
         383199.62,
         "New York",
         182901.99
        ],
        [
         142107.34,
         91391.77,
         366168.42,
         "Florida",
         166187.94
        ],
        [
         131876.9,
         99814.71,
         362861.36,
         "New York",
         156991.12
        ],
        [
         134615.46,
         147198.87,
         127716.82,
         "California",
         156122.51
        ],
        [
         130298.13,
         145530.06,
         323876.68,
         "Florida",
         155752.6
        ],
        [
         120542.52,
         148718.95,
         311613.29,
         "New York",
         152211.77
        ],
        [
         123334.88,
         108679.17,
         304981.62,
         "California",
         149759.96
        ],
        [
         101913.08,
         110594.11,
         229160.95,
         "Florida",
         146121.95
        ],
        [
         100671.96,
         91790.61,
         249744.55,
         "California",
         144259.4
        ],
        [
         93863.75,
         127320.38,
         249839.44,
         "Florida",
         141585.52
        ],
        [
         91992.39,
         135495.07,
         252664.93,
         "California",
         134307.35
        ],
        [
         119943.24,
         156547.42,
         256512.92,
         "Florida",
         132602.65
        ],
        [
         114523.61,
         122616.84,
         261776.23,
         "New York",
         129917.04
        ],
        [
         78013.11,
         121597.55,
         264346.06,
         "California",
         126992.93
        ],
        [
         94657.16,
         145077.58,
         282574.31,
         "New York",
         125370.37
        ],
        [
         91749.16,
         114175.79,
         294919.57,
         "Florida",
         124266.9
        ],
        [
         86419.7,
         153514.11,
         0.0,
         "New York",
         122776.86
        ],
        [
         76253.86,
         113867.3,
         298664.47,
         "California",
         118474.03
        ],
        [
         78389.47,
         153773.43,
         299737.29,
         "New York",
         111313.02
        ],
        [
         73994.56,
         122782.75,
         303319.26,
         "Florida",
         110352.25
        ],
        [
         67532.53,
         105751.03,
         304768.73,
         "Florida",
         108733.99
        ],
        [
         77044.01,
         99281.34,
         140574.81,
         "New York",
         108552.04
        ],
        [
         64664.71,
         139553.16,
         137962.62,
         "California",
         107404.34
        ],
        [
         75328.87,
         144135.98,
         134050.07,
         "Florida",
         105733.54
        ],
        [
         72107.6,
         127864.55,
         353183.81,
         "New York",
         105008.31
        ],
        [
         66051.52,
         182645.56,
         118148.2,
         "Florida",
         103282.38
        ],
        [
         65605.48,
         153032.06,
         107138.38,
         "New York",
         101004.64
        ],
        [
         61994.48,
         115641.28,
         91131.24,
         "Florida",
         99937.59
        ],
        [
         61136.38,
         152701.92,
         88218.23,
         "New York",
         97483.56
        ],
        [
         63408.86,
         129219.61,
         46085.25,
         "California",
         97427.84
        ],
        [
         55493.95,
         103057.49,
         214634.81,
         "Florida",
         96778.92
        ],
        [
         46426.07,
         157693.92,
         210797.67,
         "California",
         96712.8
        ],
        [
         46014.02,
         85047.44,
         205517.64,
         "New York",
         96479.51
        ],
        [
         28663.76,
         127056.21,
         201126.82,
         "Florida",
         90708.19
        ],
        [
         44069.95,
         51283.14,
         197029.42,
         "California",
         89949.14
        ],
        [
         20229.59,
         65947.93,
         185265.1,
         "New York",
         81229.06
        ],
        [
         38558.51,
         82982.09,
         174999.3,
         "California",
         81005.76
        ],
        [
         28754.33,
         118546.05,
         172795.67,
         "California",
         78239.91
        ],
        [
         27892.92,
         84710.77,
         164470.71,
         "Florida",
         77798.83
        ],
        [
         23640.93,
         96189.63,
         148001.11,
         "California",
         71498.49
        ],
        [
         15505.73,
         127382.3,
         35534.17,
         "New York",
         69758.98
        ],
        [
         22177.74,
         154806.14,
         28334.72,
         "California",
         65200.33
        ],
        [
         1000.23,
         124153.04,
         1903.93,
         "New York",
         64926.08
        ],
        [
         1315.46,
         115816.21,
         297114.46,
         "Florida",
         49490.75
        ],
        [
         0.0,
         135426.92,
         0.0,
         "California",
         42559.73
        ],
        [
         542.05,
         51743.15,
         0.0,
         "New York",
         35673.41
        ],
        [
         0.0,
         116983.8,
         45173.06,
         "California",
         14681.4
        ]
       ],
       "datasetInfos": [],
       "dbfsResultPath": null,
       "isJsonSchema": true,
       "metadata": {},
       "overflow": false,
       "plotOptions": {
        "customPlotOptions": {},
        "displayType": "table",
        "pivotAggregation": null,
        "pivotColumns": null,
        "xColumns": null,
        "yColumns": null
       },
       "removedWidgets": [],
       "schema": [
        {
         "metadata": "{}",
         "name": "rnd_spend",
         "type": "\"double\""
        },
        {
         "metadata": "{}",
         "name": "administration",
         "type": "\"double\""
        },
        {
         "metadata": "{}",
         "name": "marketing_spend",
         "type": "\"double\""
        },
        {
         "metadata": "{}",
         "name": "state",
         "type": "\"string\""
        },
        {
         "metadata": "{}",
         "name": "profit",
         "type": "\"double\""
        }
       ],
       "type": "table"
      }
     },
     "output_type": "display_data"
    }
   ],
   "source": [
    "# read temp view\n",
    "display(spark.sql(\"SELECT * FROM my_temp_table\"))"
   ]
  },
  {
   "cell_type": "markdown",
   "metadata": {
    "application/vnd.databricks.v1+cell": {
     "cellMetadata": {},
     "inputWidgets": {},
     "nuid": "23e06910-bc78-4ae4-a107-7a5b4646b608",
     "showTitle": false,
     "title": ""
    }
   },
   "source": [
    "### Play with catalogue tables"
   ]
  },
  {
   "cell_type": "code",
   "execution_count": 0,
   "metadata": {
    "application/vnd.databricks.v1+cell": {
     "cellMetadata": {
      "byteLimit": 2048000,
      "implicitDf": true,
      "rowLimit": 10000
     },
     "inputWidgets": {},
     "nuid": "aadca842-8003-4ae0-a460-ce349be5b76c",
     "showTitle": false,
     "title": ""
    }
   },
   "outputs": [
    {
     "output_type": "display_data",
     "data": {
      "text/html": [
       "<style scoped>\n",
       "  .table-result-container {\n",
       "    max-height: 300px;\n",
       "    overflow: auto;\n",
       "  }\n",
       "  table, th, td {\n",
       "    border: 1px solid black;\n",
       "    border-collapse: collapse;\n",
       "  }\n",
       "  th, td {\n",
       "    padding: 5px;\n",
       "  }\n",
       "  th {\n",
       "    text-align: left;\n",
       "  }\n",
       "</style><div class='table-result-container'><table class='table-result'><thead style='background-color: white'><tr><th>num_affected_rows</th></tr></thead><tbody><tr><td>0</td></tr></tbody></table></div>"
      ]
     },
     "metadata": {
      "application/vnd.databricks.v1+output": {
       "addedWidgets": {},
       "aggData": [],
       "aggError": "",
       "aggOverflow": false,
       "aggSchema": [],
       "aggSeriesLimitReached": false,
       "aggType": "",
       "arguments": {},
       "columnCustomDisplayInfos": {},
       "data": [
        [
         0
        ]
       ],
       "datasetInfos": [],
       "dbfsResultPath": null,
       "isJsonSchema": true,
       "metadata": {
        "dataframeName": "_sqldf",
        "executionCount": 51
       },
       "overflow": false,
       "plotOptions": {
        "customPlotOptions": {},
        "displayType": "table",
        "pivotAggregation": null,
        "pivotColumns": null,
        "xColumns": null,
        "yColumns": null
       },
       "removedWidgets": [],
       "schema": [
        {
         "metadata": "{}",
         "name": "num_affected_rows",
         "type": "\"long\""
        }
       ],
       "type": "table"
      }
     },
     "output_type": "display_data"
    }
   ],
   "source": [
    "%sql\n",
    "UPDATE my_database.my_table\n",
    "SET state = 'NewYork' WHERE state = 'New York';"
   ]
  },
  {
   "cell_type": "code",
   "execution_count": 0,
   "metadata": {
    "application/vnd.databricks.v1+cell": {
     "cellMetadata": {
      "byteLimit": 2048000,
      "rowLimit": 10000
     },
     "inputWidgets": {},
     "nuid": "c2a5deb0-2871-4956-8d75-ac2a973f8f10",
     "showTitle": false,
     "title": ""
    }
   },
   "outputs": [],
   "source": [
    "delta_df_changed = spark.read.format(\"delta\").load(delta_path)"
   ]
  },
  {
   "cell_type": "code",
   "execution_count": 0,
   "metadata": {
    "application/vnd.databricks.v1+cell": {
     "cellMetadata": {
      "byteLimit": 2048000,
      "implicitDf": true,
      "rowLimit": 10000
     },
     "inputWidgets": {},
     "nuid": "8c6d9cf6-6b95-48d4-a0d2-90aa2a085aad",
     "showTitle": false,
     "title": ""
    }
   },
   "outputs": [
    {
     "output_type": "display_data",
     "data": {
      "text/html": [
       "<style scoped>\n",
       "  .table-result-container {\n",
       "    max-height: 300px;\n",
       "    overflow: auto;\n",
       "  }\n",
       "  table, th, td {\n",
       "    border: 1px solid black;\n",
       "    border-collapse: collapse;\n",
       "  }\n",
       "  th, td {\n",
       "    padding: 5px;\n",
       "  }\n",
       "  th {\n",
       "    text-align: left;\n",
       "  }\n",
       "</style><div class='table-result-container'><table class='table-result'><thead style='background-color: white'><tr></tr></thead><tbody></tbody></table></div>"
      ]
     },
     "metadata": {
      "application/vnd.databricks.v1+output": {
       "addedWidgets": {},
       "aggData": [],
       "aggError": "",
       "aggOverflow": false,
       "aggSchema": [],
       "aggSeriesLimitReached": false,
       "aggType": "",
       "arguments": {},
       "columnCustomDisplayInfos": {},
       "data": [],
       "datasetInfos": [],
       "dbfsResultPath": null,
       "isJsonSchema": true,
       "metadata": {
        "dataframeName": null
       },
       "overflow": false,
       "plotOptions": {
        "customPlotOptions": {},
        "displayType": "table",
        "pivotAggregation": null,
        "pivotColumns": null,
        "xColumns": null,
        "yColumns": null
       },
       "removedWidgets": [],
       "schema": [],
       "type": "table"
      }
     },
     "output_type": "display_data"
    }
   ],
   "source": [
    "%sql\n",
    "DROP TABLE IF EXISTS my_database.my_feats;"
   ]
  },
  {
   "cell_type": "code",
   "execution_count": 0,
   "metadata": {
    "application/vnd.databricks.v1+cell": {
     "cellMetadata": {
      "byteLimit": 2048000,
      "implicitDf": true,
      "rowLimit": 10000
     },
     "inputWidgets": {},
     "nuid": "e13cbcf5-f7c2-4a70-ade8-257b31e9a194",
     "showTitle": false,
     "title": ""
    }
   },
   "outputs": [
    {
     "output_type": "display_data",
     "data": {
      "text/html": [
       "<style scoped>\n",
       "  .table-result-container {\n",
       "    max-height: 300px;\n",
       "    overflow: auto;\n",
       "  }\n",
       "  table, th, td {\n",
       "    border: 1px solid black;\n",
       "    border-collapse: collapse;\n",
       "  }\n",
       "  th, td {\n",
       "    padding: 5px;\n",
       "  }\n",
       "  th {\n",
       "    text-align: left;\n",
       "  }\n",
       "</style><div class='table-result-container'><table class='table-result'><thead style='background-color: white'><tr><th>num_affected_rows</th><th>num_inserted_rows</th></tr></thead><tbody></tbody></table></div>"
      ]
     },
     "metadata": {
      "application/vnd.databricks.v1+output": {
       "addedWidgets": {},
       "aggData": [],
       "aggError": "",
       "aggOverflow": false,
       "aggSchema": [],
       "aggSeriesLimitReached": false,
       "aggType": "",
       "arguments": {},
       "columnCustomDisplayInfos": {},
       "data": [],
       "datasetInfos": [],
       "dbfsResultPath": null,
       "isJsonSchema": true,
       "metadata": {
        "dataframeName": "_sqldf",
        "executionCount": 52
       },
       "overflow": false,
       "plotOptions": {
        "customPlotOptions": {},
        "displayType": "table",
        "pivotAggregation": null,
        "pivotColumns": null,
        "xColumns": null,
        "yColumns": null
       },
       "removedWidgets": [],
       "schema": [
        {
         "metadata": "{}",
         "name": "num_affected_rows",
         "type": "\"long\""
        },
        {
         "metadata": "{}",
         "name": "num_inserted_rows",
         "type": "\"long\""
        }
       ],
       "type": "table"
      }
     },
     "output_type": "display_data"
    }
   ],
   "source": [
    "%sql\n",
    "CREATE TABLE IF NOT EXISTS my_database.my_feats\n",
    "USING DELTA\n",
    "LOCATION '/dbfs/tmp/delta/feats'\n",
    "(\n",
    "  SELECT \n",
    "  state\n",
    "  ,rnd_spend\n",
    "  ,administration as adm_spend\n",
    "  ,marketing_spend as mrk_spend\n",
    "  ,ROUND(rnd_spend + administration + marketing_spend,2) as total_spend\n",
    "  ,ROUND(rnd_spend/(rnd_spend + administration + marketing_spend),2) as rnd_pct\n",
    "  ,ROUND(administration/(rnd_spend + administration + marketing_spend),2) as adm_pct\n",
    "  ,ROUND(marketing_spend/(rnd_spend + administration + marketing_spend),2) as mrk_pct\n",
    "  ,profit\n",
    "  FROM my_database.my_table\n",
    ");"
   ]
  },
  {
   "cell_type": "code",
   "execution_count": 0,
   "metadata": {
    "application/vnd.databricks.v1+cell": {
     "cellMetadata": {
      "byteLimit": 2048000,
      "implicitDf": true,
      "rowLimit": 10000
     },
     "inputWidgets": {},
     "nuid": "89474c96-6c19-4c67-bca6-3747f083794c",
     "showTitle": false,
     "title": ""
    }
   },
   "outputs": [
    {
     "output_type": "display_data",
     "data": {
      "text/html": [
       "<style scoped>\n",
       "  .table-result-container {\n",
       "    max-height: 300px;\n",
       "    overflow: auto;\n",
       "  }\n",
       "  table, th, td {\n",
       "    border: 1px solid black;\n",
       "    border-collapse: collapse;\n",
       "  }\n",
       "  th, td {\n",
       "    padding: 5px;\n",
       "  }\n",
       "  th {\n",
       "    text-align: left;\n",
       "  }\n",
       "</style><div class='table-result-container'><table class='table-result'><thead style='background-color: white'><tr><th>state</th><th>rnd_spend</th><th>adm_spend</th><th>mrk_spend</th><th>total_spend</th><th>rnd_pct</th><th>adm_pct</th><th>mrk_pct</th><th>profit</th></tr></thead><tbody><tr><td>NewYork</td><td>165349.2</td><td>136897.8</td><td>471784.1</td><td>774031.1</td><td>0.21</td><td>0.18</td><td>0.61</td><td>192261.83</td></tr><tr><td>California</td><td>162597.7</td><td>151377.59</td><td>443898.53</td><td>757873.82</td><td>0.21</td><td>0.2</td><td>0.59</td><td>191792.06</td></tr><tr><td>Florida</td><td>153441.51</td><td>101145.55</td><td>407934.54</td><td>662521.6</td><td>0.23</td><td>0.15</td><td>0.62</td><td>191050.39</td></tr><tr><td>NewYork</td><td>144372.41</td><td>118671.85</td><td>383199.62</td><td>646243.88</td><td>0.22</td><td>0.18</td><td>0.59</td><td>182901.99</td></tr><tr><td>Florida</td><td>142107.34</td><td>91391.77</td><td>366168.42</td><td>599667.53</td><td>0.24</td><td>0.15</td><td>0.61</td><td>166187.94</td></tr></tbody></table></div>"
      ]
     },
     "metadata": {
      "application/vnd.databricks.v1+output": {
       "addedWidgets": {},
       "aggData": [],
       "aggError": "",
       "aggOverflow": false,
       "aggSchema": [],
       "aggSeriesLimitReached": false,
       "aggType": "",
       "arguments": {},
       "columnCustomDisplayInfos": {},
       "data": [
        [
         "NewYork",
         165349.2,
         136897.8,
         471784.1,
         774031.1,
         0.21,
         0.18,
         0.61,
         192261.83
        ],
        [
         "California",
         162597.7,
         151377.59,
         443898.53,
         757873.82,
         0.21,
         0.2,
         0.59,
         191792.06
        ],
        [
         "Florida",
         153441.51,
         101145.55,
         407934.54,
         662521.6,
         0.23,
         0.15,
         0.62,
         191050.39
        ],
        [
         "NewYork",
         144372.41,
         118671.85,
         383199.62,
         646243.88,
         0.22,
         0.18,
         0.59,
         182901.99
        ],
        [
         "Florida",
         142107.34,
         91391.77,
         366168.42,
         599667.53,
         0.24,
         0.15,
         0.61,
         166187.94
        ]
       ],
       "datasetInfos": [],
       "dbfsResultPath": null,
       "isJsonSchema": true,
       "metadata": {
        "dataframeName": "_sqldf",
        "executionCount": 39
       },
       "overflow": false,
       "plotOptions": {
        "customPlotOptions": {},
        "displayType": "table",
        "pivotAggregation": null,
        "pivotColumns": null,
        "xColumns": null,
        "yColumns": null
       },
       "removedWidgets": [],
       "schema": [
        {
         "metadata": "{}",
         "name": "state",
         "type": "\"string\""
        },
        {
         "metadata": "{}",
         "name": "rnd_spend",
         "type": "\"double\""
        },
        {
         "metadata": "{}",
         "name": "adm_spend",
         "type": "\"double\""
        },
        {
         "metadata": "{}",
         "name": "mrk_spend",
         "type": "\"double\""
        },
        {
         "metadata": "{}",
         "name": "total_spend",
         "type": "\"double\""
        },
        {
         "metadata": "{}",
         "name": "rnd_pct",
         "type": "\"double\""
        },
        {
         "metadata": "{}",
         "name": "adm_pct",
         "type": "\"double\""
        },
        {
         "metadata": "{}",
         "name": "mrk_pct",
         "type": "\"double\""
        },
        {
         "metadata": "{}",
         "name": "profit",
         "type": "\"double\""
        }
       ],
       "type": "table"
      }
     },
     "output_type": "display_data"
    }
   ],
   "source": [
    "%sql\n",
    "SELECT * FROM my_database.my_feats LIMIT 5;"
   ]
  },
  {
   "cell_type": "code",
   "execution_count": 0,
   "metadata": {
    "application/vnd.databricks.v1+cell": {
     "cellMetadata": {
      "byteLimit": 2048000,
      "rowLimit": 10000
     },
     "inputWidgets": {},
     "nuid": "5076c3c7-f029-4bf0-9729-ff5e66db9023",
     "showTitle": false,
     "title": ""
    }
   },
   "outputs": [
    {
     "output_type": "display_data",
     "data": {
      "text/html": [
       "<style scoped>\n",
       "  .table-result-container {\n",
       "    max-height: 300px;\n",
       "    overflow: auto;\n",
       "  }\n",
       "  table, th, td {\n",
       "    border: 1px solid black;\n",
       "    border-collapse: collapse;\n",
       "  }\n",
       "  th, td {\n",
       "    padding: 5px;\n",
       "  }\n",
       "  th {\n",
       "    text-align: left;\n",
       "  }\n",
       "</style><div class='table-result-container'><table class='table-result'><thead style='background-color: white'><tr><th>state</th><th>rnd_spend</th><th>adm_spend</th><th>mrk_spend</th><th>total_spend</th><th>rnd_pct</th><th>adm_pct</th><th>mrk_pct</th><th>profit</th></tr></thead><tbody><tr><td>NewYork</td><td>165349.2</td><td>136897.8</td><td>471784.1</td><td>774031.1</td><td>0.21</td><td>0.18</td><td>0.61</td><td>192261.83</td></tr><tr><td>California</td><td>162597.7</td><td>151377.59</td><td>443898.53</td><td>757873.82</td><td>0.21</td><td>0.2</td><td>0.59</td><td>191792.06</td></tr><tr><td>Florida</td><td>153441.51</td><td>101145.55</td><td>407934.54</td><td>662521.6</td><td>0.23</td><td>0.15</td><td>0.62</td><td>191050.39</td></tr><tr><td>NewYork</td><td>144372.41</td><td>118671.85</td><td>383199.62</td><td>646243.88</td><td>0.22</td><td>0.18</td><td>0.59</td><td>182901.99</td></tr><tr><td>Florida</td><td>142107.34</td><td>91391.77</td><td>366168.42</td><td>599667.53</td><td>0.24</td><td>0.15</td><td>0.61</td><td>166187.94</td></tr></tbody></table></div>"
      ]
     },
     "metadata": {
      "application/vnd.databricks.v1+output": {
       "addedWidgets": {},
       "aggData": [],
       "aggError": "",
       "aggOverflow": false,
       "aggSchema": [],
       "aggSeriesLimitReached": false,
       "aggType": "",
       "arguments": {},
       "columnCustomDisplayInfos": {},
       "data": [
        [
         "NewYork",
         165349.2,
         136897.8,
         471784.1,
         774031.1,
         0.21,
         0.18,
         0.61,
         192261.83
        ],
        [
         "California",
         162597.7,
         151377.59,
         443898.53,
         757873.82,
         0.21,
         0.2,
         0.59,
         191792.06
        ],
        [
         "Florida",
         153441.51,
         101145.55,
         407934.54,
         662521.6,
         0.23,
         0.15,
         0.62,
         191050.39
        ],
        [
         "NewYork",
         144372.41,
         118671.85,
         383199.62,
         646243.88,
         0.22,
         0.18,
         0.59,
         182901.99
        ],
        [
         "Florida",
         142107.34,
         91391.77,
         366168.42,
         599667.53,
         0.24,
         0.15,
         0.61,
         166187.94
        ]
       ],
       "datasetInfos": [],
       "dbfsResultPath": null,
       "isJsonSchema": true,
       "metadata": {},
       "overflow": false,
       "plotOptions": {
        "customPlotOptions": {},
        "displayType": "table",
        "pivotAggregation": null,
        "pivotColumns": null,
        "xColumns": null,
        "yColumns": null
       },
       "removedWidgets": [],
       "schema": [
        {
         "metadata": "{}",
         "name": "state",
         "type": "\"string\""
        },
        {
         "metadata": "{}",
         "name": "rnd_spend",
         "type": "\"double\""
        },
        {
         "metadata": "{}",
         "name": "adm_spend",
         "type": "\"double\""
        },
        {
         "metadata": "{}",
         "name": "mrk_spend",
         "type": "\"double\""
        },
        {
         "metadata": "{}",
         "name": "total_spend",
         "type": "\"double\""
        },
        {
         "metadata": "{}",
         "name": "rnd_pct",
         "type": "\"double\""
        },
        {
         "metadata": "{}",
         "name": "adm_pct",
         "type": "\"double\""
        },
        {
         "metadata": "{}",
         "name": "mrk_pct",
         "type": "\"double\""
        },
        {
         "metadata": "{}",
         "name": "profit",
         "type": "\"double\""
        }
       ],
       "type": "table"
      }
     },
     "output_type": "display_data"
    }
   ],
   "source": [
    "display(spark.sql('SELECT * FROM my_database.my_feats LIMIT 5;'))"
   ]
  },
  {
   "cell_type": "code",
   "execution_count": 0,
   "metadata": {
    "application/vnd.databricks.v1+cell": {
     "cellMetadata": {
      "byteLimit": 2048000,
      "rowLimit": 10000
     },
     "inputWidgets": {},
     "nuid": "a4c9674c-16f3-4b81-b30c-9519d8b7c791",
     "showTitle": false,
     "title": ""
    }
   },
   "outputs": [
    {
     "output_type": "display_data",
     "data": {
      "text/html": [
       "<style scoped>\n",
       "  .table-result-container {\n",
       "    max-height: 300px;\n",
       "    overflow: auto;\n",
       "  }\n",
       "  table, th, td {\n",
       "    border: 1px solid black;\n",
       "    border-collapse: collapse;\n",
       "  }\n",
       "  th, td {\n",
       "    padding: 5px;\n",
       "  }\n",
       "  th {\n",
       "    text-align: left;\n",
       "  }\n",
       "</style><div class='table-result-container'><table class='table-result'><thead style='background-color: white'><tr><th>state</th><th>rnd_spend</th><th>adm_spend</th><th>mrk_spend</th><th>total_spend</th><th>rnd_pct</th><th>adm_pct</th><th>mrk_pct</th><th>profit</th></tr></thead><tbody><tr><td>NewYork</td><td>165349.2</td><td>136897.8</td><td>471784.1</td><td>774031.1</td><td>0.21</td><td>0.18</td><td>0.61</td><td>192261.83</td></tr><tr><td>California</td><td>162597.7</td><td>151377.59</td><td>443898.53</td><td>757873.82</td><td>0.21</td><td>0.2</td><td>0.59</td><td>191792.06</td></tr><tr><td>Florida</td><td>153441.51</td><td>101145.55</td><td>407934.54</td><td>662521.6</td><td>0.23</td><td>0.15</td><td>0.62</td><td>191050.39</td></tr><tr><td>NewYork</td><td>144372.41</td><td>118671.85</td><td>383199.62</td><td>646243.88</td><td>0.22</td><td>0.18</td><td>0.59</td><td>182901.99</td></tr><tr><td>Florida</td><td>142107.34</td><td>91391.77</td><td>366168.42</td><td>599667.53</td><td>0.24</td><td>0.15</td><td>0.61</td><td>166187.94</td></tr><tr><td>NewYork</td><td>131876.9</td><td>99814.71</td><td>362861.36</td><td>594552.97</td><td>0.22</td><td>0.17</td><td>0.61</td><td>156991.12</td></tr><tr><td>California</td><td>134615.46</td><td>147198.87</td><td>127716.82</td><td>409531.15</td><td>0.33</td><td>0.36</td><td>0.31</td><td>156122.51</td></tr><tr><td>Florida</td><td>130298.13</td><td>145530.06</td><td>323876.68</td><td>599704.87</td><td>0.22</td><td>0.24</td><td>0.54</td><td>155752.6</td></tr><tr><td>NewYork</td><td>120542.52</td><td>148718.95</td><td>311613.29</td><td>580874.76</td><td>0.21</td><td>0.26</td><td>0.54</td><td>152211.77</td></tr><tr><td>California</td><td>123334.88</td><td>108679.17</td><td>304981.62</td><td>536995.67</td><td>0.23</td><td>0.2</td><td>0.57</td><td>149759.96</td></tr><tr><td>Florida</td><td>101913.08</td><td>110594.11</td><td>229160.95</td><td>441668.14</td><td>0.23</td><td>0.25</td><td>0.52</td><td>146121.95</td></tr><tr><td>California</td><td>100671.96</td><td>91790.61</td><td>249744.55</td><td>442207.12</td><td>0.23</td><td>0.21</td><td>0.56</td><td>144259.4</td></tr><tr><td>Florida</td><td>93863.75</td><td>127320.38</td><td>249839.44</td><td>471023.57</td><td>0.2</td><td>0.27</td><td>0.53</td><td>141585.52</td></tr><tr><td>California</td><td>91992.39</td><td>135495.07</td><td>252664.93</td><td>480152.39</td><td>0.19</td><td>0.28</td><td>0.53</td><td>134307.35</td></tr><tr><td>Florida</td><td>119943.24</td><td>156547.42</td><td>256512.92</td><td>533003.58</td><td>0.23</td><td>0.29</td><td>0.48</td><td>132602.65</td></tr><tr><td>NewYork</td><td>114523.61</td><td>122616.84</td><td>261776.23</td><td>498916.68</td><td>0.23</td><td>0.25</td><td>0.52</td><td>129917.04</td></tr><tr><td>California</td><td>78013.11</td><td>121597.55</td><td>264346.06</td><td>463956.72</td><td>0.17</td><td>0.26</td><td>0.57</td><td>126992.93</td></tr><tr><td>NewYork</td><td>94657.16</td><td>145077.58</td><td>282574.31</td><td>522309.05</td><td>0.18</td><td>0.28</td><td>0.54</td><td>125370.37</td></tr><tr><td>Florida</td><td>91749.16</td><td>114175.79</td><td>294919.57</td><td>500844.52</td><td>0.18</td><td>0.23</td><td>0.59</td><td>124266.9</td></tr><tr><td>NewYork</td><td>86419.7</td><td>153514.11</td><td>0.0</td><td>239933.81</td><td>0.36</td><td>0.64</td><td>0.0</td><td>122776.86</td></tr><tr><td>California</td><td>76253.86</td><td>113867.3</td><td>298664.47</td><td>488785.63</td><td>0.16</td><td>0.23</td><td>0.61</td><td>118474.03</td></tr><tr><td>NewYork</td><td>78389.47</td><td>153773.43</td><td>299737.29</td><td>531900.19</td><td>0.15</td><td>0.29</td><td>0.56</td><td>111313.02</td></tr><tr><td>Florida</td><td>73994.56</td><td>122782.75</td><td>303319.26</td><td>500096.57</td><td>0.15</td><td>0.25</td><td>0.61</td><td>110352.25</td></tr><tr><td>Florida</td><td>67532.53</td><td>105751.03</td><td>304768.73</td><td>478052.29</td><td>0.14</td><td>0.22</td><td>0.64</td><td>108733.99</td></tr><tr><td>NewYork</td><td>77044.01</td><td>99281.34</td><td>140574.81</td><td>316900.16</td><td>0.24</td><td>0.31</td><td>0.44</td><td>108552.04</td></tr><tr><td>California</td><td>64664.71</td><td>139553.16</td><td>137962.62</td><td>342180.49</td><td>0.19</td><td>0.41</td><td>0.4</td><td>107404.34</td></tr><tr><td>Florida</td><td>75328.87</td><td>144135.98</td><td>134050.07</td><td>353514.92</td><td>0.21</td><td>0.41</td><td>0.38</td><td>105733.54</td></tr><tr><td>NewYork</td><td>72107.6</td><td>127864.55</td><td>353183.81</td><td>553155.96</td><td>0.13</td><td>0.23</td><td>0.64</td><td>105008.31</td></tr><tr><td>Florida</td><td>66051.52</td><td>182645.56</td><td>118148.2</td><td>366845.28</td><td>0.18</td><td>0.5</td><td>0.32</td><td>103282.38</td></tr><tr><td>NewYork</td><td>65605.48</td><td>153032.06</td><td>107138.38</td><td>325775.92</td><td>0.2</td><td>0.47</td><td>0.33</td><td>101004.64</td></tr><tr><td>Florida</td><td>61994.48</td><td>115641.28</td><td>91131.24</td><td>268767.0</td><td>0.23</td><td>0.43</td><td>0.34</td><td>99937.59</td></tr><tr><td>NewYork</td><td>61136.38</td><td>152701.92</td><td>88218.23</td><td>302056.53</td><td>0.2</td><td>0.51</td><td>0.29</td><td>97483.56</td></tr><tr><td>California</td><td>63408.86</td><td>129219.61</td><td>46085.25</td><td>238713.72</td><td>0.27</td><td>0.54</td><td>0.19</td><td>97427.84</td></tr><tr><td>Florida</td><td>55493.95</td><td>103057.49</td><td>214634.81</td><td>373186.25</td><td>0.15</td><td>0.28</td><td>0.58</td><td>96778.92</td></tr><tr><td>California</td><td>46426.07</td><td>157693.92</td><td>210797.67</td><td>414917.66</td><td>0.11</td><td>0.38</td><td>0.51</td><td>96712.8</td></tr><tr><td>NewYork</td><td>46014.02</td><td>85047.44</td><td>205517.64</td><td>336579.1</td><td>0.14</td><td>0.25</td><td>0.61</td><td>96479.51</td></tr><tr><td>Florida</td><td>28663.76</td><td>127056.21</td><td>201126.82</td><td>356846.79</td><td>0.08</td><td>0.36</td><td>0.56</td><td>90708.19</td></tr><tr><td>California</td><td>44069.95</td><td>51283.14</td><td>197029.42</td><td>292382.51</td><td>0.15</td><td>0.18</td><td>0.67</td><td>89949.14</td></tr><tr><td>NewYork</td><td>20229.59</td><td>65947.93</td><td>185265.1</td><td>271442.62</td><td>0.07</td><td>0.24</td><td>0.68</td><td>81229.06</td></tr><tr><td>California</td><td>38558.51</td><td>82982.09</td><td>174999.3</td><td>296539.9</td><td>0.13</td><td>0.28</td><td>0.59</td><td>81005.76</td></tr><tr><td>California</td><td>28754.33</td><td>118546.05</td><td>172795.67</td><td>320096.05</td><td>0.09</td><td>0.37</td><td>0.54</td><td>78239.91</td></tr><tr><td>Florida</td><td>27892.92</td><td>84710.77</td><td>164470.71</td><td>277074.4</td><td>0.1</td><td>0.31</td><td>0.59</td><td>77798.83</td></tr><tr><td>California</td><td>23640.93</td><td>96189.63</td><td>148001.11</td><td>267831.67</td><td>0.09</td><td>0.36</td><td>0.55</td><td>71498.49</td></tr><tr><td>NewYork</td><td>15505.73</td><td>127382.3</td><td>35534.17</td><td>178422.2</td><td>0.09</td><td>0.71</td><td>0.2</td><td>69758.98</td></tr><tr><td>California</td><td>22177.74</td><td>154806.14</td><td>28334.72</td><td>205318.6</td><td>0.11</td><td>0.75</td><td>0.14</td><td>65200.33</td></tr><tr><td>NewYork</td><td>1000.23</td><td>124153.04</td><td>1903.93</td><td>127057.2</td><td>0.01</td><td>0.98</td><td>0.01</td><td>64926.08</td></tr><tr><td>Florida</td><td>1315.46</td><td>115816.21</td><td>297114.46</td><td>414246.13</td><td>0.0</td><td>0.28</td><td>0.72</td><td>49490.75</td></tr><tr><td>California</td><td>0.0</td><td>135426.92</td><td>0.0</td><td>135426.92</td><td>0.0</td><td>1.0</td><td>0.0</td><td>42559.73</td></tr><tr><td>NewYork</td><td>542.05</td><td>51743.15</td><td>0.0</td><td>52285.2</td><td>0.01</td><td>0.99</td><td>0.0</td><td>35673.41</td></tr><tr><td>California</td><td>0.0</td><td>116983.8</td><td>45173.06</td><td>162156.86</td><td>0.0</td><td>0.72</td><td>0.28</td><td>14681.4</td></tr></tbody></table></div>"
      ]
     },
     "metadata": {
      "application/vnd.databricks.v1+output": {
       "addedWidgets": {},
       "aggData": [],
       "aggError": "",
       "aggOverflow": false,
       "aggSchema": [],
       "aggSeriesLimitReached": false,
       "aggType": "",
       "arguments": {},
       "columnCustomDisplayInfos": {},
       "data": [
        [
         "NewYork",
         165349.2,
         136897.8,
         471784.1,
         774031.1,
         0.21,
         0.18,
         0.61,
         192261.83
        ],
        [
         "California",
         162597.7,
         151377.59,
         443898.53,
         757873.82,
         0.21,
         0.2,
         0.59,
         191792.06
        ],
        [
         "Florida",
         153441.51,
         101145.55,
         407934.54,
         662521.6,
         0.23,
         0.15,
         0.62,
         191050.39
        ],
        [
         "NewYork",
         144372.41,
         118671.85,
         383199.62,
         646243.88,
         0.22,
         0.18,
         0.59,
         182901.99
        ],
        [
         "Florida",
         142107.34,
         91391.77,
         366168.42,
         599667.53,
         0.24,
         0.15,
         0.61,
         166187.94
        ],
        [
         "NewYork",
         131876.9,
         99814.71,
         362861.36,
         594552.97,
         0.22,
         0.17,
         0.61,
         156991.12
        ],
        [
         "California",
         134615.46,
         147198.87,
         127716.82,
         409531.15,
         0.33,
         0.36,
         0.31,
         156122.51
        ],
        [
         "Florida",
         130298.13,
         145530.06,
         323876.68,
         599704.87,
         0.22,
         0.24,
         0.54,
         155752.6
        ],
        [
         "NewYork",
         120542.52,
         148718.95,
         311613.29,
         580874.76,
         0.21,
         0.26,
         0.54,
         152211.77
        ],
        [
         "California",
         123334.88,
         108679.17,
         304981.62,
         536995.67,
         0.23,
         0.2,
         0.57,
         149759.96
        ],
        [
         "Florida",
         101913.08,
         110594.11,
         229160.95,
         441668.14,
         0.23,
         0.25,
         0.52,
         146121.95
        ],
        [
         "California",
         100671.96,
         91790.61,
         249744.55,
         442207.12,
         0.23,
         0.21,
         0.56,
         144259.4
        ],
        [
         "Florida",
         93863.75,
         127320.38,
         249839.44,
         471023.57,
         0.2,
         0.27,
         0.53,
         141585.52
        ],
        [
         "California",
         91992.39,
         135495.07,
         252664.93,
         480152.39,
         0.19,
         0.28,
         0.53,
         134307.35
        ],
        [
         "Florida",
         119943.24,
         156547.42,
         256512.92,
         533003.58,
         0.23,
         0.29,
         0.48,
         132602.65
        ],
        [
         "NewYork",
         114523.61,
         122616.84,
         261776.23,
         498916.68,
         0.23,
         0.25,
         0.52,
         129917.04
        ],
        [
         "California",
         78013.11,
         121597.55,
         264346.06,
         463956.72,
         0.17,
         0.26,
         0.57,
         126992.93
        ],
        [
         "NewYork",
         94657.16,
         145077.58,
         282574.31,
         522309.05,
         0.18,
         0.28,
         0.54,
         125370.37
        ],
        [
         "Florida",
         91749.16,
         114175.79,
         294919.57,
         500844.52,
         0.18,
         0.23,
         0.59,
         124266.9
        ],
        [
         "NewYork",
         86419.7,
         153514.11,
         0.0,
         239933.81,
         0.36,
         0.64,
         0.0,
         122776.86
        ],
        [
         "California",
         76253.86,
         113867.3,
         298664.47,
         488785.63,
         0.16,
         0.23,
         0.61,
         118474.03
        ],
        [
         "NewYork",
         78389.47,
         153773.43,
         299737.29,
         531900.19,
         0.15,
         0.29,
         0.56,
         111313.02
        ],
        [
         "Florida",
         73994.56,
         122782.75,
         303319.26,
         500096.57,
         0.15,
         0.25,
         0.61,
         110352.25
        ],
        [
         "Florida",
         67532.53,
         105751.03,
         304768.73,
         478052.29,
         0.14,
         0.22,
         0.64,
         108733.99
        ],
        [
         "NewYork",
         77044.01,
         99281.34,
         140574.81,
         316900.16,
         0.24,
         0.31,
         0.44,
         108552.04
        ],
        [
         "California",
         64664.71,
         139553.16,
         137962.62,
         342180.49,
         0.19,
         0.41,
         0.4,
         107404.34
        ],
        [
         "Florida",
         75328.87,
         144135.98,
         134050.07,
         353514.92,
         0.21,
         0.41,
         0.38,
         105733.54
        ],
        [
         "NewYork",
         72107.6,
         127864.55,
         353183.81,
         553155.96,
         0.13,
         0.23,
         0.64,
         105008.31
        ],
        [
         "Florida",
         66051.52,
         182645.56,
         118148.2,
         366845.28,
         0.18,
         0.5,
         0.32,
         103282.38
        ],
        [
         "NewYork",
         65605.48,
         153032.06,
         107138.38,
         325775.92,
         0.2,
         0.47,
         0.33,
         101004.64
        ],
        [
         "Florida",
         61994.48,
         115641.28,
         91131.24,
         268767.0,
         0.23,
         0.43,
         0.34,
         99937.59
        ],
        [
         "NewYork",
         61136.38,
         152701.92,
         88218.23,
         302056.53,
         0.2,
         0.51,
         0.29,
         97483.56
        ],
        [
         "California",
         63408.86,
         129219.61,
         46085.25,
         238713.72,
         0.27,
         0.54,
         0.19,
         97427.84
        ],
        [
         "Florida",
         55493.95,
         103057.49,
         214634.81,
         373186.25,
         0.15,
         0.28,
         0.58,
         96778.92
        ],
        [
         "California",
         46426.07,
         157693.92,
         210797.67,
         414917.66,
         0.11,
         0.38,
         0.51,
         96712.8
        ],
        [
         "NewYork",
         46014.02,
         85047.44,
         205517.64,
         336579.1,
         0.14,
         0.25,
         0.61,
         96479.51
        ],
        [
         "Florida",
         28663.76,
         127056.21,
         201126.82,
         356846.79,
         0.08,
         0.36,
         0.56,
         90708.19
        ],
        [
         "California",
         44069.95,
         51283.14,
         197029.42,
         292382.51,
         0.15,
         0.18,
         0.67,
         89949.14
        ],
        [
         "NewYork",
         20229.59,
         65947.93,
         185265.1,
         271442.62,
         0.07,
         0.24,
         0.68,
         81229.06
        ],
        [
         "California",
         38558.51,
         82982.09,
         174999.3,
         296539.9,
         0.13,
         0.28,
         0.59,
         81005.76
        ],
        [
         "California",
         28754.33,
         118546.05,
         172795.67,
         320096.05,
         0.09,
         0.37,
         0.54,
         78239.91
        ],
        [
         "Florida",
         27892.92,
         84710.77,
         164470.71,
         277074.4,
         0.1,
         0.31,
         0.59,
         77798.83
        ],
        [
         "California",
         23640.93,
         96189.63,
         148001.11,
         267831.67,
         0.09,
         0.36,
         0.55,
         71498.49
        ],
        [
         "NewYork",
         15505.73,
         127382.3,
         35534.17,
         178422.2,
         0.09,
         0.71,
         0.2,
         69758.98
        ],
        [
         "California",
         22177.74,
         154806.14,
         28334.72,
         205318.6,
         0.11,
         0.75,
         0.14,
         65200.33
        ],
        [
         "NewYork",
         1000.23,
         124153.04,
         1903.93,
         127057.2,
         0.01,
         0.98,
         0.01,
         64926.08
        ],
        [
         "Florida",
         1315.46,
         115816.21,
         297114.46,
         414246.13,
         0.0,
         0.28,
         0.72,
         49490.75
        ],
        [
         "California",
         0.0,
         135426.92,
         0.0,
         135426.92,
         0.0,
         1.0,
         0.0,
         42559.73
        ],
        [
         "NewYork",
         542.05,
         51743.15,
         0.0,
         52285.2,
         0.01,
         0.99,
         0.0,
         35673.41
        ],
        [
         "California",
         0.0,
         116983.8,
         45173.06,
         162156.86,
         0.0,
         0.72,
         0.28,
         14681.4
        ]
       ],
       "datasetInfos": [],
       "dbfsResultPath": null,
       "isJsonSchema": true,
       "metadata": {},
       "overflow": false,
       "plotOptions": {
        "customPlotOptions": {},
        "displayType": "table",
        "pivotAggregation": null,
        "pivotColumns": null,
        "xColumns": null,
        "yColumns": null
       },
       "removedWidgets": [],
       "schema": [
        {
         "metadata": "{}",
         "name": "state",
         "type": "\"string\""
        },
        {
         "metadata": "{}",
         "name": "rnd_spend",
         "type": "\"double\""
        },
        {
         "metadata": "{}",
         "name": "adm_spend",
         "type": "\"double\""
        },
        {
         "metadata": "{}",
         "name": "mrk_spend",
         "type": "\"double\""
        },
        {
         "metadata": "{}",
         "name": "total_spend",
         "type": "\"double\""
        },
        {
         "metadata": "{}",
         "name": "rnd_pct",
         "type": "\"double\""
        },
        {
         "metadata": "{}",
         "name": "adm_pct",
         "type": "\"double\""
        },
        {
         "metadata": "{}",
         "name": "mrk_pct",
         "type": "\"double\""
        },
        {
         "metadata": "{}",
         "name": "profit",
         "type": "\"double\""
        }
       ],
       "type": "table"
      }
     },
     "output_type": "display_data"
    }
   ],
   "source": [
    "spark_feats = spark.read.format(\"delta\").load('/dbfs/tmp/delta/feats')\n",
    "display(spark_feats)"
   ]
  },
  {
   "cell_type": "markdown",
   "metadata": {
    "application/vnd.databricks.v1+cell": {
     "cellMetadata": {},
     "inputWidgets": {},
     "nuid": "8b3a4188-aec6-4aa0-a78e-17244f36c848",
     "showTitle": false,
     "title": ""
    }
   },
   "source": [
    "### List catalogue table paths"
   ]
  },
  {
   "cell_type": "code",
   "execution_count": 0,
   "metadata": {
    "application/vnd.databricks.v1+cell": {
     "cellMetadata": {
      "byteLimit": 2048000,
      "implicitDf": true,
      "rowLimit": 10000
     },
     "inputWidgets": {},
     "nuid": "f3c21005-ab95-4bf8-9cdd-6da6bf7faf11",
     "showTitle": false,
     "title": ""
    }
   },
   "outputs": [
    {
     "output_type": "display_data",
     "data": {
      "text/html": [
       "<style scoped>\n",
       "  .table-result-container {\n",
       "    max-height: 300px;\n",
       "    overflow: auto;\n",
       "  }\n",
       "  table, th, td {\n",
       "    border: 1px solid black;\n",
       "    border-collapse: collapse;\n",
       "  }\n",
       "  th, td {\n",
       "    padding: 5px;\n",
       "  }\n",
       "  th {\n",
       "    text-align: left;\n",
       "  }\n",
       "</style><div class='table-result-container'><table class='table-result'><thead style='background-color: white'><tr><th>database</th><th>tableName</th><th>isTemporary</th></tr></thead><tbody><tr><td>my_database</td><td>my_feats</td><td>false</td></tr><tr><td>my_database</td><td>my_table</td><td>false</td></tr><tr><td></td><td>my_temp_table</td><td>true</td></tr></tbody></table></div>"
      ]
     },
     "metadata": {
      "application/vnd.databricks.v1+output": {
       "addedWidgets": {},
       "aggData": [],
       "aggError": "",
       "aggOverflow": false,
       "aggSchema": [],
       "aggSeriesLimitReached": false,
       "aggType": "",
       "arguments": {},
       "columnCustomDisplayInfos": {},
       "data": [
        [
         "my_database",
         "my_feats",
         false
        ],
        [
         "my_database",
         "my_table",
         false
        ],
        [
         "",
         "my_temp_table",
         true
        ]
       ],
       "datasetInfos": [],
       "dbfsResultPath": null,
       "isJsonSchema": true,
       "metadata": {
        "dataframeName": "_sqldf",
        "executionCount": 42
       },
       "overflow": false,
       "plotOptions": {
        "customPlotOptions": {},
        "displayType": "table",
        "pivotAggregation": null,
        "pivotColumns": null,
        "xColumns": null,
        "yColumns": null
       },
       "removedWidgets": [],
       "schema": [
        {
         "metadata": "{}",
         "name": "database",
         "type": "\"string\""
        },
        {
         "metadata": "{}",
         "name": "tableName",
         "type": "\"string\""
        },
        {
         "metadata": "{}",
         "name": "isTemporary",
         "type": "\"boolean\""
        }
       ],
       "type": "table"
      }
     },
     "output_type": "display_data"
    }
   ],
   "source": [
    "%sql\n",
    "-- SHOW TABLES;\n",
    "SHOW TABLES IN my_database;"
   ]
  },
  {
   "cell_type": "code",
   "execution_count": 0,
   "metadata": {
    "application/vnd.databricks.v1+cell": {
     "cellMetadata": {
      "byteLimit": 2048000,
      "rowLimit": 10000
     },
     "inputWidgets": {},
     "nuid": "9d00947d-6948-4bbb-8608-8e1840f3f0f8",
     "showTitle": false,
     "title": ""
    }
   },
   "outputs": [
    {
     "output_type": "stream",
     "name": "stdout",
     "output_type": "stream",
     "text": [
      "my_database.my_feats\nmy_database.my_table\nNone.my_temp_table\n"
     ]
    }
   ],
   "source": [
    "# List all tables in a specific database\n",
    "database_name = \"my_database\"\n",
    "tables = spark.catalog.listTables(database_name)\n",
    "for table in tables:\n",
    "    print(f\"{table.database}.{table.name}\")\n",
    "\n",
    "# # List all tables in the current database\n",
    "# tables = spark.catalog.listTables()\n",
    "# for table in tables:\n",
    "#     print(table.name)"
   ]
  },
  {
   "cell_type": "code",
   "execution_count": 0,
   "metadata": {
    "application/vnd.databricks.v1+cell": {
     "cellMetadata": {
      "byteLimit": 2048000,
      "rowLimit": 10000
     },
     "inputWidgets": {},
     "nuid": "06991f8c-bc3e-4f7e-b0a8-9ff88f2f3df0",
     "showTitle": false,
     "title": ""
    }
   },
   "outputs": [
    {
     "output_type": "execute_result",
     "data": {
      "text/plain": [
       "'dbfs:/dbfs/tmp/delta/feats'"
      ]
     },
     "execution_count": 44,
     "metadata": {},
     "output_type": "execute_result"
    }
   ],
   "source": [
    "spark.sql(\"DESCRIBE DETAIL my_database.my_feats\").collect()[0]['location']"
   ]
  },
  {
   "cell_type": "code",
   "execution_count": 0,
   "metadata": {
    "application/vnd.databricks.v1+cell": {
     "cellMetadata": {
      "byteLimit": 2048000,
      "rowLimit": 10000
     },
     "inputWidgets": {},
     "nuid": "deab3ed9-8550-4024-be20-61175beceda4",
     "showTitle": false,
     "title": ""
    }
   },
   "outputs": [],
   "source": [
    "def get_table_details(database:str)->None:\n",
    "    table_list = []\n",
    "    for t in spark.catalog.listTables(database):\n",
    "        if not t.isTemporary:\n",
    "            query = f\"DESCRIBE DETAIL {t.database}.{t.name}\"\n",
    "            details = spark.sql(query).collect()[0]\n",
    "            table_list.append({\n",
    "                'database' : t.database,\n",
    "                'name' : t.name,\n",
    "                'isTemporary' : t.isTemporary,\n",
    "                'location' : details[\"location\"]\n",
    "            })\n",
    "    display(pd.DataFrame(table_list))"
   ]
  },
  {
   "cell_type": "code",
   "execution_count": 0,
   "metadata": {
    "application/vnd.databricks.v1+cell": {
     "cellMetadata": {
      "byteLimit": 2048000,
      "rowLimit": 10000
     },
     "inputWidgets": {},
     "nuid": "674c00e4-f76c-497e-987b-8d8cf55dc143",
     "showTitle": false,
     "title": ""
    }
   },
   "outputs": [
    {
     "output_type": "display_data",
     "data": {
      "text/html": [
       "<style scoped>\n",
       "  .table-result-container {\n",
       "    max-height: 300px;\n",
       "    overflow: auto;\n",
       "  }\n",
       "  table, th, td {\n",
       "    border: 1px solid black;\n",
       "    border-collapse: collapse;\n",
       "  }\n",
       "  th, td {\n",
       "    padding: 5px;\n",
       "  }\n",
       "  th {\n",
       "    text-align: left;\n",
       "  }\n",
       "</style><div class='table-result-container'><table class='table-result'><thead style='background-color: white'><tr><th>database</th><th>name</th><th>isTemporary</th><th>location</th></tr></thead><tbody><tr><td>my_database</td><td>my_feats</td><td>false</td><td>dbfs:/dbfs/tmp/delta/feats</td></tr><tr><td>my_database</td><td>my_table</td><td>false</td><td>dbfs:/dbfs/tmp/delta-table</td></tr></tbody></table></div>"
      ]
     },
     "metadata": {
      "application/vnd.databricks.v1+output": {
       "addedWidgets": {},
       "aggData": [],
       "aggError": "",
       "aggOverflow": false,
       "aggSchema": [],
       "aggSeriesLimitReached": false,
       "aggType": "",
       "arguments": {},
       "columnCustomDisplayInfos": {},
       "data": [
        [
         "my_database",
         "my_feats",
         false,
         "dbfs:/dbfs/tmp/delta/feats"
        ],
        [
         "my_database",
         "my_table",
         false,
         "dbfs:/dbfs/tmp/delta-table"
        ]
       ],
       "datasetInfos": [],
       "dbfsResultPath": null,
       "isJsonSchema": true,
       "metadata": {},
       "overflow": false,
       "plotOptions": {
        "customPlotOptions": {},
        "displayType": "table",
        "pivotAggregation": null,
        "pivotColumns": null,
        "xColumns": null,
        "yColumns": null
       },
       "removedWidgets": [],
       "schema": [
        {
         "metadata": "{}",
         "name": "database",
         "type": "\"string\""
        },
        {
         "metadata": "{}",
         "name": "name",
         "type": "\"string\""
        },
        {
         "metadata": "{}",
         "name": "isTemporary",
         "type": "\"boolean\""
        },
        {
         "metadata": "{}",
         "name": "location",
         "type": "\"string\""
        }
       ],
       "type": "table"
      }
     },
     "output_type": "display_data"
    }
   ],
   "source": [
    "get_table_details(database_name)"
   ]
  }
 ],
 "metadata": {
  "application/vnd.databricks.v1+notebook": {
   "dashboards": [],
   "environmentMetadata": null,
   "language": "python",
   "notebookMetadata": {
    "mostRecentlyExecutedCommandWithImplicitDF": {
     "commandId": 2423944312614962,
     "dataframes": [
      "_sqldf"
     ]
    },
    "pythonIndentUnit": 4
   },
   "notebookName": "01.io - catalogue - delta",
   "widgets": {}
  }
 },
 "nbformat": 4,
 "nbformat_minor": 0
}

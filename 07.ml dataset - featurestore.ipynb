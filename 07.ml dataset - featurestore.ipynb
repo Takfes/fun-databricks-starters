{
 "cells": [
  {
   "cell_type": "code",
   "execution_count": 0,
   "metadata": {
    "application/vnd.databricks.v1+cell": {
     "cellMetadata": {
      "byteLimit": 2048000,
      "rowLimit": 10000
     },
     "inputWidgets": {},
     "nuid": "df1eb541-95d9-4eab-bc77-f9b58e90ad04",
     "showTitle": false,
     "title": ""
    }
   },
   "outputs": [],
   "source": [
    "from databricks import feature_store\n",
    "from databricks.feature_store import feature_table, FeatureLookup"
   ]
  }
 ],
 "metadata": {
  "application/vnd.databricks.v1+notebook": {
   "dashboards": [],
   "environmentMetadata": null,
   "language": "python",
   "notebookMetadata": {
    "pythonIndentUnit": 4
   },
   "notebookName": "07.ml dataset - featurestore",
   "widgets": {}
  }
 },
 "nbformat": 4,
 "nbformat_minor": 0
}
